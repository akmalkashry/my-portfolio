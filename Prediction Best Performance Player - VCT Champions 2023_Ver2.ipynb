{
 "cells": [
  {
   "cell_type": "markdown",
   "id": "05e240ce",
   "metadata": {},
   "source": [
    "# Data Preparation"
   ]
  },
  {
   "cell_type": "code",
   "execution_count": 25,
   "id": "2c99430d",
   "metadata": {},
   "outputs": [],
   "source": [
    "import pandas as pd\n",
    "import numpy as np"
   ]
  },
  {
   "cell_type": "code",
   "execution_count": 26,
   "id": "12d40296",
   "metadata": {},
   "outputs": [],
   "source": [
    "df  = pd.read_csv(\"D:\\Portfolio\\Valorant\\Data - Player Statistics.csv\")"
   ]
  },
  {
   "cell_type": "code",
   "execution_count": 27,
   "id": "2a1c8611",
   "metadata": {},
   "outputs": [
    {
     "data": {
      "text/html": [
       "<div>\n",
       "<style scoped>\n",
       "    .dataframe tbody tr th:only-of-type {\n",
       "        vertical-align: middle;\n",
       "    }\n",
       "\n",
       "    .dataframe tbody tr th {\n",
       "        vertical-align: top;\n",
       "    }\n",
       "\n",
       "    .dataframe thead th {\n",
       "        text-align: right;\n",
       "    }\n",
       "</style>\n",
       "<table border=\"1\" class=\"dataframe\">\n",
       "  <thead>\n",
       "    <tr style=\"text-align: right;\">\n",
       "      <th></th>\n",
       "      <th>Player</th>\n",
       "      <th>Country</th>\n",
       "      <th>Team</th>\n",
       "      <th>Agents</th>\n",
       "      <th>Maps</th>\n",
       "      <th>K</th>\n",
       "      <th>D</th>\n",
       "      <th>A</th>\n",
       "      <th>KD</th>\n",
       "      <th>KDA</th>\n",
       "      <th>ACS/Map</th>\n",
       "      <th>K/Map</th>\n",
       "      <th>D/Map</th>\n",
       "      <th>A/Map</th>\n",
       "    </tr>\n",
       "  </thead>\n",
       "  <tbody>\n",
       "    <tr>\n",
       "      <th>0</th>\n",
       "      <td>Keznit</td>\n",
       "      <td>Chile</td>\n",
       "      <td>KRÜ Esports</td>\n",
       "      <td>['Raze', 'Jett']</td>\n",
       "      <td>4</td>\n",
       "      <td>79</td>\n",
       "      <td>70</td>\n",
       "      <td>21</td>\n",
       "      <td>1.12</td>\n",
       "      <td>1.42</td>\n",
       "      <td>266</td>\n",
       "      <td>19.7</td>\n",
       "      <td>17.5</td>\n",
       "      <td>5.2</td>\n",
       "    </tr>\n",
       "    <tr>\n",
       "      <th>1</th>\n",
       "      <td>Whz</td>\n",
       "      <td>China</td>\n",
       "      <td>Bilibili Gaming</td>\n",
       "      <td>['Raze', 'Jett']</td>\n",
       "      <td>11</td>\n",
       "      <td>212</td>\n",
       "      <td>181</td>\n",
       "      <td>41</td>\n",
       "      <td>1.17</td>\n",
       "      <td>1.39</td>\n",
       "      <td>254</td>\n",
       "      <td>19.2</td>\n",
       "      <td>16.4</td>\n",
       "      <td>3.7</td>\n",
       "    </tr>\n",
       "    <tr>\n",
       "      <th>2</th>\n",
       "      <td>Demon1</td>\n",
       "      <td>United States</td>\n",
       "      <td>Evil Geniuses</td>\n",
       "      <td>['Jett', 'Astra', 'Chamber']</td>\n",
       "      <td>21</td>\n",
       "      <td>421</td>\n",
       "      <td>302</td>\n",
       "      <td>80</td>\n",
       "      <td>1.39</td>\n",
       "      <td>1.65</td>\n",
       "      <td>246</td>\n",
       "      <td>20.0</td>\n",
       "      <td>14.3</td>\n",
       "      <td>3.8</td>\n",
       "    </tr>\n",
       "    <tr>\n",
       "      <th>3</th>\n",
       "      <td>Aspas</td>\n",
       "      <td>Brazil</td>\n",
       "      <td>LOUD</td>\n",
       "      <td>['Raze', 'Jett']</td>\n",
       "      <td>24</td>\n",
       "      <td>446</td>\n",
       "      <td>355</td>\n",
       "      <td>82</td>\n",
       "      <td>1.25</td>\n",
       "      <td>1.48</td>\n",
       "      <td>235</td>\n",
       "      <td>18.5</td>\n",
       "      <td>14.7</td>\n",
       "      <td>3.4</td>\n",
       "    </tr>\n",
       "    <tr>\n",
       "      <th>4</th>\n",
       "      <td>Jinggg</td>\n",
       "      <td>Singapore</td>\n",
       "      <td>Paper Rex</td>\n",
       "      <td>['Raze', 'Phoenix']</td>\n",
       "      <td>16</td>\n",
       "      <td>285</td>\n",
       "      <td>279</td>\n",
       "      <td>92</td>\n",
       "      <td>1.02</td>\n",
       "      <td>1.35</td>\n",
       "      <td>234</td>\n",
       "      <td>17.8</td>\n",
       "      <td>17.4</td>\n",
       "      <td>5.7</td>\n",
       "    </tr>\n",
       "    <tr>\n",
       "      <th>5</th>\n",
       "      <td>Ardiis</td>\n",
       "      <td>Latvia</td>\n",
       "      <td>NRG</td>\n",
       "      <td>['Jett', 'Chamber', 'Killjoy']</td>\n",
       "      <td>6</td>\n",
       "      <td>106</td>\n",
       "      <td>94</td>\n",
       "      <td>22</td>\n",
       "      <td>1.12</td>\n",
       "      <td>1.36</td>\n",
       "      <td>232</td>\n",
       "      <td>17.6</td>\n",
       "      <td>15.6</td>\n",
       "      <td>3.6</td>\n",
       "    </tr>\n",
       "    <tr>\n",
       "      <th>6</th>\n",
       "      <td>Alfajer</td>\n",
       "      <td>Turkey</td>\n",
       "      <td>Fnatic</td>\n",
       "      <td>['Killjoy', 'Cypher', 'Chamber']</td>\n",
       "      <td>14</td>\n",
       "      <td>233</td>\n",
       "      <td>168</td>\n",
       "      <td>36</td>\n",
       "      <td>1.38</td>\n",
       "      <td>1.60</td>\n",
       "      <td>232</td>\n",
       "      <td>16.6</td>\n",
       "      <td>12.0</td>\n",
       "      <td>2.5</td>\n",
       "    </tr>\n",
       "    <tr>\n",
       "      <th>7</th>\n",
       "      <td>AAAAY</td>\n",
       "      <td>China</td>\n",
       "      <td>FunPlus Phoenix</td>\n",
       "      <td>['Skye', 'Gekko']</td>\n",
       "      <td>4</td>\n",
       "      <td>76</td>\n",
       "      <td>57</td>\n",
       "      <td>16</td>\n",
       "      <td>1.33</td>\n",
       "      <td>1.61</td>\n",
       "      <td>231</td>\n",
       "      <td>19.0</td>\n",
       "      <td>14.2</td>\n",
       "      <td>4.0</td>\n",
       "    </tr>\n",
       "    <tr>\n",
       "      <th>8</th>\n",
       "      <td>Sayaplayer</td>\n",
       "      <td>South Korea</td>\n",
       "      <td>T1</td>\n",
       "      <td>['Jett', 'Raze']</td>\n",
       "      <td>6</td>\n",
       "      <td>105</td>\n",
       "      <td>94</td>\n",
       "      <td>15</td>\n",
       "      <td>1.11</td>\n",
       "      <td>1.27</td>\n",
       "      <td>230</td>\n",
       "      <td>17.5</td>\n",
       "      <td>15.6</td>\n",
       "      <td>2.5</td>\n",
       "    </tr>\n",
       "    <tr>\n",
       "      <th>9</th>\n",
       "      <td>Jawgemo</td>\n",
       "      <td>Cambodia</td>\n",
       "      <td>Evil Geniuses</td>\n",
       "      <td>['Raze', 'Omen', 'Astra']</td>\n",
       "      <td>21</td>\n",
       "      <td>362</td>\n",
       "      <td>325</td>\n",
       "      <td>154</td>\n",
       "      <td>1.11</td>\n",
       "      <td>1.58</td>\n",
       "      <td>228</td>\n",
       "      <td>17.2</td>\n",
       "      <td>15.4</td>\n",
       "      <td>7.3</td>\n",
       "    </tr>\n",
       "  </tbody>\n",
       "</table>\n",
       "</div>"
      ],
      "text/plain": [
       "       Player        Country             Team  \\\n",
       "0      Keznit          Chile      KRÜ Esports   \n",
       "1         Whz          China  Bilibili Gaming   \n",
       "2      Demon1  United States    Evil Geniuses   \n",
       "3       Aspas         Brazil             LOUD   \n",
       "4      Jinggg      Singapore        Paper Rex   \n",
       "5      Ardiis         Latvia              NRG   \n",
       "6     Alfajer         Turkey           Fnatic   \n",
       "7       AAAAY          China  FunPlus Phoenix   \n",
       "8  Sayaplayer    South Korea               T1   \n",
       "9     Jawgemo       Cambodia    Evil Geniuses   \n",
       "\n",
       "                             Agents  Maps    K    D    A    KD   KDA  ACS/Map  \\\n",
       "0                  ['Raze', 'Jett']     4   79   70   21  1.12  1.42      266   \n",
       "1                  ['Raze', 'Jett']    11  212  181   41  1.17  1.39      254   \n",
       "2      ['Jett', 'Astra', 'Chamber']    21  421  302   80  1.39  1.65      246   \n",
       "3                  ['Raze', 'Jett']    24  446  355   82  1.25  1.48      235   \n",
       "4               ['Raze', 'Phoenix']    16  285  279   92  1.02  1.35      234   \n",
       "5    ['Jett', 'Chamber', 'Killjoy']     6  106   94   22  1.12  1.36      232   \n",
       "6  ['Killjoy', 'Cypher', 'Chamber']    14  233  168   36  1.38  1.60      232   \n",
       "7                 ['Skye', 'Gekko']     4   76   57   16  1.33  1.61      231   \n",
       "8                  ['Jett', 'Raze']     6  105   94   15  1.11  1.27      230   \n",
       "9         ['Raze', 'Omen', 'Astra']    21  362  325  154  1.11  1.58      228   \n",
       "\n",
       "   K/Map  D/Map  A/Map  \n",
       "0   19.7   17.5    5.2  \n",
       "1   19.2   16.4    3.7  \n",
       "2   20.0   14.3    3.8  \n",
       "3   18.5   14.7    3.4  \n",
       "4   17.8   17.4    5.7  \n",
       "5   17.6   15.6    3.6  \n",
       "6   16.6   12.0    2.5  \n",
       "7   19.0   14.2    4.0  \n",
       "8   17.5   15.6    2.5  \n",
       "9   17.2   15.4    7.3  "
      ]
     },
     "execution_count": 27,
     "metadata": {},
     "output_type": "execute_result"
    }
   ],
   "source": [
    "df.head(10)"
   ]
  },
  {
   "cell_type": "code",
   "execution_count": 28,
   "id": "115fc39b",
   "metadata": {},
   "outputs": [
    {
     "data": {
      "text/plain": [
       "Player      object\n",
       "Country     object\n",
       "Team        object\n",
       "Agents      object\n",
       "Maps         int64\n",
       "K            int64\n",
       "D            int64\n",
       "A            int64\n",
       "KD         float64\n",
       "KDA        float64\n",
       "ACS/Map      int64\n",
       "K/Map      float64\n",
       "D/Map      float64\n",
       "A/Map      float64\n",
       "dtype: object"
      ]
     },
     "execution_count": 28,
     "metadata": {},
     "output_type": "execute_result"
    }
   ],
   "source": [
    "df.dtypes"
   ]
  },
  {
   "cell_type": "markdown",
   "id": "7882d2ca",
   "metadata": {},
   "source": [
    "# Data Cleaning"
   ]
  },
  {
   "cell_type": "code",
   "execution_count": 29,
   "id": "ca06d841",
   "metadata": {},
   "outputs": [
    {
     "name": "stdout",
     "output_type": "stream",
     "text": [
      "Missing values count for each column:\n",
      "Player     0\n",
      "Country    0\n",
      "Team       0\n",
      "Agents     0\n",
      "Maps       0\n",
      "K          0\n",
      "D          0\n",
      "A          0\n",
      "KD         0\n",
      "KDA        0\n",
      "ACS/Map    0\n",
      "K/Map      0\n",
      "D/Map      0\n",
      "A/Map      0\n",
      "dtype: int64\n"
     ]
    }
   ],
   "source": [
    "# Replace other potential representations of missing values\n",
    "df.replace([\"N/A\", \"NA\", \"null\", \"-\", \"0\"], np.nan, inplace=True)\n",
    "\n",
    "# Check for missing values\n",
    "missing_values = df.isnull().sum()\n",
    "\n",
    "# Display missing values count for each column\n",
    "print(\"Missing values count for each column:\")\n",
    "print(missing_values)"
   ]
  },
  {
   "cell_type": "markdown",
   "id": "2d307d0e",
   "metadata": {},
   "source": [
    "## Data Consistency"
   ]
  },
  {
   "cell_type": "code",
   "execution_count": 30,
   "id": "e441c033",
   "metadata": {},
   "outputs": [
    {
     "name": "stdout",
     "output_type": "stream",
     "text": [
      "       Player         Country             Team  \\\n",
      "0      KEZNIT           chile      KRÜ ESPORTS   \n",
      "1         WHZ           china  BILIBILI GAMING   \n",
      "2      DEMON1   united states    EVIL GENIUSES   \n",
      "3       ASPAS          brazil             LOUD   \n",
      "4      JINGGG       singapore        PAPER REX   \n",
      "..        ...             ...              ...   \n",
      "75        RIN           china  BILIBILI GAMING   \n",
      "76        TZH           china  FUNPLUS PHOENIX   \n",
      "77    SOULCAS  united kingdom      TEAM LIQUID   \n",
      "78  SUGARZ3RO           japan    ZETA DIVISION   \n",
      "79       CROW           japan    ZETA DIVISION   \n",
      "\n",
      "                              Agents  Maps    K    D   A    KD   KDA  ACS/Map  \\\n",
      "0                   ['raze', 'jett']     4   79   70  21  1.12  1.42      266   \n",
      "1                   ['raze', 'jett']    11  212  181  41  1.17  1.39      254   \n",
      "2       ['jett', 'astra', 'chamber']    21  421  302  80  1.39  1.65      246   \n",
      "3                   ['raze', 'jett']    24  446  355  82  1.25  1.48      235   \n",
      "4                ['raze', 'phoenix']    16  285  279  92  1.02  1.35      234   \n",
      "..                               ...   ...  ...  ...  ..   ...   ...      ...   \n",
      "75  ['omen', 'killjoy', 'brimstone']    11  122  167  81  0.73  1.21      144   \n",
      "76      ['astra', 'viper', 'harbor']     4   42   59  23  0.71  1.10      137   \n",
      "77                 ['skye', 'astra']     4   44   58  25  0.75  1.18      134   \n",
      "78            ['brimstone', 'astra']     4   38   58  24  0.65  1.06      115   \n",
      "79                ['skye', 'breach']     4   29   61  23  0.47  0.85      106   \n",
      "\n",
      "    K/Map  D/Map  A/Map  \n",
      "0    19.7   17.5    5.2  \n",
      "1    19.2   16.4    3.7  \n",
      "2    20.0   14.3    3.8  \n",
      "3    18.5   14.7    3.4  \n",
      "4    17.8   17.4    5.7  \n",
      "..    ...    ...    ...  \n",
      "75   11.0   15.1    7.3  \n",
      "76   10.5   14.7    5.7  \n",
      "77   11.0   14.5    6.2  \n",
      "78    9.5   14.5    6.0  \n",
      "79    7.2   15.2    5.7  \n",
      "\n",
      "[80 rows x 14 columns]\n"
     ]
    }
   ],
   "source": [
    "# Convert a specific column to uppercase\n",
    "uppercase = ['Team', 'Player']\n",
    "df[uppercase] = df[uppercase].apply(lambda x: x.str.upper())\n",
    "lowercase = ['Country', 'Agents']\n",
    "df[lowercase] = df[lowercase].apply(lambda x: x.str.lower())\n",
    "\n",
    "# Print the modified DataFrame\n",
    "print(df)"
   ]
  },
  {
   "cell_type": "code",
   "execution_count": 31,
   "id": "4222e001",
   "metadata": {},
   "outputs": [
    {
     "name": "stdout",
     "output_type": "stream",
     "text": [
      "       Player         Country             Team  \\\n",
      "0      KEZNIT           chile      KRÜ ESPORTS   \n",
      "1         WHZ           china  BILIBILI GAMING   \n",
      "2      DEMON1   united states    EVIL GENIUSES   \n",
      "3       ASPAS          brazil             LOUD   \n",
      "4      JINGGG       singapore        PAPER REX   \n",
      "..        ...             ...              ...   \n",
      "75        RIN           china  BILIBILI GAMING   \n",
      "76        TZH           china  FUNPLUS PHOENIX   \n",
      "77    SOULCAS  united kingdom      TEAM LIQUID   \n",
      "78  SUGARZ3RO           japan    ZETA DIVISION   \n",
      "79       CROW           japan    ZETA DIVISION   \n",
      "\n",
      "                              Agents  Maps    K    D   A    KD   KDA  ACS/Map  \\\n",
      "0                   ['raze', 'jett']     4   79   70  21  1.12  1.42      266   \n",
      "1                   ['raze', 'jett']    11  212  181  41  1.17  1.39      254   \n",
      "2       ['jett', 'astra', 'chamber']    21  421  302  80  1.39  1.65      246   \n",
      "3                   ['raze', 'jett']    24  446  355  82  1.25  1.48      235   \n",
      "4                ['raze', 'phoenix']    16  285  279  92  1.02  1.35      234   \n",
      "..                               ...   ...  ...  ...  ..   ...   ...      ...   \n",
      "75  ['omen', 'killjoy', 'brimstone']    11  122  167  81  0.73  1.21      144   \n",
      "76      ['astra', 'viper', 'harbor']     4   42   59  23  0.71  1.10      137   \n",
      "77                 ['skye', 'astra']     4   44   58  25  0.75  1.18      134   \n",
      "78            ['brimstone', 'astra']     4   38   58  24  0.65  1.06      115   \n",
      "79                ['skye', 'breach']     4   29   61  23  0.47  0.85      106   \n",
      "\n",
      "    K/Map  D/Map  A/Map  \n",
      "0    19.7   17.5    5.2  \n",
      "1    19.2   16.4    3.7  \n",
      "2    20.0   14.3    3.8  \n",
      "3    18.5   14.7    3.4  \n",
      "4    17.8   17.4    5.7  \n",
      "..    ...    ...    ...  \n",
      "75   11.0   15.1    7.3  \n",
      "76   10.5   14.7    5.7  \n",
      "77   11.0   14.5    6.2  \n",
      "78    9.5   14.5    6.0  \n",
      "79    7.2   15.2    5.7  \n",
      "\n",
      "[80 rows x 14 columns]\n"
     ]
    }
   ],
   "source": [
    "# Remove the word from the 'Text' column\n",
    "df['Player'] = df['Player'].str.replace(r'\\([^)]*\\)', '', regex=True)\n",
    "\n",
    "print(df)"
   ]
  },
  {
   "cell_type": "markdown",
   "id": "45433bea",
   "metadata": {},
   "source": [
    "# Data Visualization (EDA)"
   ]
  },
  {
   "cell_type": "markdown",
   "id": "74b696f5",
   "metadata": {},
   "source": [
    "## Bar Plot - Country\n",
    "### To determined which country player came from.\n",
    "#### Potential to make an event tournament based on country\n",
    "##### VCT Champions 2021 - Germany\n",
    "##### VCT Champions 2022 - Turkey\n",
    "##### VCT Champions 2023 - America\n",
    "##### VCT Champions 2024 - Russia? Sweden? (any master tourney included)"
   ]
  },
  {
   "cell_type": "code",
   "execution_count": 33,
   "id": "2538e680",
   "metadata": {},
   "outputs": [
    {
     "data": {
      "image/png": "[encoded data removed]",
      "text/plain": [
       "<Figure size 1000x500 with 1 Axes>"
      ]
     },
     "metadata": {},
     "output_type": "display_data"
    }
   ],
   "source": [
    "# import library\n",
    "import seaborn as sns\n",
    "import matplotlib.pyplot as plt\n",
    "\n",
    "# Data\n",
    "country_counts = df['Country'].value_counts()\n",
    "\n",
    "# Convert the Series to a DataFrame\n",
    "country_counts_df = country_counts.reset_index()\n",
    "country_counts_df.columns = ['Country', 'Count']\n",
    "\n",
    "# Create the bar plot\n",
    "plt.figure(figsize=(10, 5))\n",
    "plt.title(\"Number of Countries\")\n",
    "ax = sns.barplot(x=\"Count\", y=\"Country\", data=country_counts_df, palette=\"ch:start=2.5\")\n",
    "plt.xlabel('Count')\n",
    "plt.ylabel('Country')\n",
    "\n",
    "plt.show()\n"
   ]
  },
  {
   "cell_type": "markdown",
   "id": "65628f46",
   "metadata": {},
   "source": [
    "## Correlation Matrix\n",
    "### To see the relationship KDA, ACS/Map, etc."
   ]
  },
  {
   "cell_type": "code",
   "execution_count": 34,
   "id": "59695a7f",
   "metadata": {},
   "outputs": [
    {
     "name": "stderr",
     "output_type": "stream",
     "text": [
      "C:\\Users\\krise\\AppData\\Local\\Temp\\ipykernel_18332\\786952558.py:2: FutureWarning:\n",
      "\n",
      "The default value of numeric_only in DataFrame.corr is deprecated. In a future version, it will default to False. Select only valid columns or specify the value of numeric_only to silence this warning.\n",
      "\n"
     ]
    },
    {
     "data": {
      "image/png": "[encoded data removed]",
      "text/plain": [
       "<Figure size 800x600 with 2 Axes>"
      ]
     },
     "metadata": {},
     "output_type": "display_data"
    }
   ],
   "source": [
    "# Calculate the correlation matrix\n",
    "correlation_matrix = df.corr()\n",
    "\n",
    "# Visualize the correlation matrix using a heatmap\n",
    "plt.figure(figsize=(8, 6))\n",
    "sns.heatmap(correlation_matrix, annot=True, cmap='coolwarm', linewidths=0.5)\n",
    "plt.title('Correlation Matrix')\n",
    "plt.show()"
   ]
  },
  {
   "cell_type": "markdown",
   "id": "d736fd3b",
   "metadata": {},
   "source": [
    "## Scatter Plot\n",
    "### To see the player performance between having assist and non-assist"
   ]
  },
  {
   "cell_type": "code",
   "execution_count": 35,
   "id": "6119aad7",
   "metadata": {},
   "outputs": [
    {
     "data": {
      "application/vnd.plotly.v1+json": {
       "config": {
        "plotlyServerURL": "https://plot.ly"
       },
       "data": [
        {
         "cells": {
          "values": [
           [
            "KEZNIT",
            "WHZ",
            "DEMON1",
            "ASPAS",
            "JINGGG",
            "ARDIIS",
            "ALFAJER",
            "AAAAY",
            "SAYAPLAYER",
            "JAWGEMO",
            "BUZZ",
            "LESS",
            "FIT1NHO",
            "ZMJJKK",
            "DEP",
            "SAYF",
            "VICTOR",
            "CNED",
            "DERKE",
            "CAUANZIN",
            "CLOUD",
            "MUNCHKIN",
            "NATS",
            "SOMETHING",
            "MRFALIN",
            "LYSOAR",
            "YOSEMITE",
            "YUICAW",
            "LEO",
            "F0RSAKEN",
            "HOODY",
            "SMOGGY",
            "ZEST",
            "NOBODY",
            "ZYPPAN",
            "CHICHOO",
            "ATA KAPTAN",
            "C0M",
            "ETHAN",
            "SUYGETSU",
            "QRAXS",
            "D4V41",
            "MOJJ",
            "QW1",
            "MAKO",
            "KNIGHT",
            "BIANK",
            "BOOSTIO",
            "XETA",
            "NUKKYE",
            "SAADHAK",
            "CRASHIES",
            "DAVEEYS",
            "BOASTER",
            "ANGE1",
            "BAN",
            "STAX",
            "RHYME",
            "S0M",
            "CHRONICLE",
            "FNS",
            "HAODONG",
            "SHAO",
            "MINDFREAK ",
            "TUYZ",
            "RB",
            "REDGAR",
            "JAMPPI",
            "KLAUS",
            "BERLIN",
            "LAZ",
            "CARPE",
            "NAGZ",
            "TENNN",
            "MELSER",
            "RIN",
            "TZH",
            "SOULCAS",
            "SUGARZ3RO",
            "CROW"
           ],
           [
            1.42,
            1.39,
            1.65,
            1.48,
            1.35,
            1.36,
            1.6,
            1.61,
            1.27,
            1.58,
            1.27,
            1.5,
            1.26,
            1.28,
            1.16,
            1.39,
            1.32,
            1.45,
            1.38,
            1.71,
            1.66,
            1.22,
            1.31,
            1.39,
            1.63,
            1.17,
            1.42,
            1.05,
            2.17,
            1.47,
            1.65,
            1.27,
            1.43,
            1.37,
            1.26,
            1.5,
            1.63,
            1.61,
            1.87,
            1.47,
            1.52,
            1.74,
            1.32,
            1.03,
            1.73,
            1.35,
            1.37,
            1.22,
            1.33,
            1.14,
            1.58,
            1.5,
            1.4,
            1.52,
            1.29,
            1.25,
            1.42,
            1.6,
            1.71,
            1.54,
            1.29,
            1.49,
            1.51,
            1.57,
            1.73,
            1.08,
            1.14,
            0.93,
            1.07,
            1.02,
            0.98,
            0.99,
            1.2,
            0.8,
            0.98,
            1.21,
            1.1,
            1.18,
            1.06,
            0.85
           ],
           [
            1.12,
            1.17,
            1.39,
            1.25,
            1.02,
            1.12,
            1.38,
            1.33,
            1.11,
            1.11,
            1.02,
            1.2,
            1.02,
            1.04,
            1.07,
            1.01,
            1.07,
            1.2,
            1.14,
            1.12,
            1.1,
            0.92,
            1.09,
            1.09,
            1.11,
            0.95,
            1.03,
            0.86,
            1.36,
            1,
            1,
            0.98,
            0.98,
            0.93,
            0.88,
            1.03,
            0.88,
            1.12,
            1,
            1.2,
            0.93,
            1.07,
            0.92,
            0.92,
            0.96,
            0.91,
            0.89,
            0.86,
            0.94,
            0.88,
            0.87,
            1.01,
            1.11,
            0.89,
            0.74,
            0.81,
            0.91,
            0.83,
            1.07,
            0.88,
            0.72,
            0.83,
            0.97,
            0.97,
            0.95,
            0.85,
            0.69,
            0.84,
            0.71,
            0.59,
            0.8,
            0.67,
            0.71,
            0.66,
            0.63,
            0.73,
            0.71,
            0.75,
            0.65,
            0.47
           ]
          ]
         },
         "header": {
          "values": [
           "Player",
           "KDA",
           "KD"
          ]
         },
         "type": "table"
        }
       ],
       "layout": {
        "template": {
         "data": {
          "bar": [
           {
            "error_x": {
             "color": "#2a3f5f"
            },
            "error_y": {
             "color": "#2a3f5f"
            },
            "marker": {
             "line": {
              "color": "#E5ECF6",
              "width": 0.5
             },
             "pattern": {
              "fillmode": "overlay",
              "size": 10,
              "solidity": 0.2
             }
            },
            "type": "bar"
           }
          ],
          "barpolar": [
           {
            "marker": {
             "line": {
              "color": "#E5ECF6",
              "width": 0.5
             },
             "pattern": {
              "fillmode": "overlay",
              "size": 10,
              "solidity": 0.2
             }
            },
            "type": "barpolar"
           }
          ],
          "carpet": [
           {
            "aaxis": {
             "endlinecolor": "#2a3f5f",
             "gridcolor": "white",
             "linecolor": "white",
             "minorgridcolor": "white",
             "startlinecolor": "#2a3f5f"
            },
            "baxis": {
             "endlinecolor": "#2a3f5f",
             "gridcolor": "white",
             "linecolor": "white",
             "minorgridcolor": "white",
             "startlinecolor": "#2a3f5f"
            },
            "type": "carpet"
           }
          ],
          "choropleth": [
           {
            "colorbar": {
             "outlinewidth": 0,
             "ticks": ""
            },
            "type": "choropleth"
           }
          ],
          "contour": [
           {
            "colorbar": {
             "outlinewidth": 0,
             "ticks": ""
            },
            "colorscale": [
             [
              0,
              "#0d0887"
             ],
             [
              0.1111111111111111,
              "#46039f"
             ],
             [
              0.2222222222222222,
              "#7201a8"
             ],
             [
              0.3333333333333333,
              "#9c179e"
             ],
             [
              0.4444444444444444,
              "#bd3786"
             ],
             [
              0.5555555555555556,
              "#d8576b"
             ],
             [
              0.6666666666666666,
              "#ed7953"
             ],
             [
              0.7777777777777778,
              "#fb9f3a"
             ],
             [
              0.8888888888888888,
              "#fdca26"
             ],
             [
              1,
              "#f0f921"
             ]
            ],
            "type": "contour"
           }
          ],
          "contourcarpet": [
           {
            "colorbar": {
             "outlinewidth": 0,
             "ticks": ""
            },
            "type": "contourcarpet"
           }
          ],
          "heatmap": [
           {
            "colorbar": {
             "outlinewidth": 0,
             "ticks": ""
            },
            "colorscale": [
             [
              0,
              "#0d0887"
             ],
             [
              0.1111111111111111,
              "#46039f"
             ],
             [
              0.2222222222222222,
              "#7201a8"
             ],
             [
              0.3333333333333333,
              "#9c179e"
             ],
             [
              0.4444444444444444,
              "#bd3786"
             ],
             [
              0.5555555555555556,
              "#d8576b"
             ],
             [
              0.6666666666666666,
              "#ed7953"
             ],
             [
              0.7777777777777778,
              "#fb9f3a"
             ],
             [
              0.8888888888888888,
              "#fdca26"
             ],
             [
              1,
              "#f0f921"
             ]
            ],
            "type": "heatmap"
           }
          ],
          "heatmapgl": [
           {
            "colorbar": {
             "outlinewidth": 0,
             "ticks": ""
            },
            "colorscale": [
             [
              0,
              "#0d0887"
             ],
             [
              0.1111111111111111,
              "#46039f"
             ],
             [
              0.2222222222222222,
              "#7201a8"
             ],
             [
              0.3333333333333333,
              "#9c179e"
             ],
             [
              0.4444444444444444,
              "#bd3786"
             ],
             [
              0.5555555555555556,
              "#d8576b"
             ],
             [
              0.6666666666666666,
              "#ed7953"
             ],
             [
              0.7777777777777778,
              "#fb9f3a"
             ],
             [
              0.8888888888888888,
              "#fdca26"
             ],
             [
              1,
              "#f0f921"
             ]
            ],
            "type": "heatmapgl"
           }
          ],
          "histogram": [
           {
            "marker": {
             "pattern": {
              "fillmode": "overlay",
              "size": 10,
              "solidity": 0.2
             }
            },
            "type": "histogram"
           }
          ],
          "histogram2d": [
           {
            "colorbar": {
             "outlinewidth": 0,
             "ticks": ""
            },
            "colorscale": [
             [
              0,
              "#0d0887"
             ],
             [
              0.1111111111111111,
              "#46039f"
             ],
             [
              0.2222222222222222,
              "#7201a8"
             ],
             [
              0.3333333333333333,
              "#9c179e"
             ],
             [
              0.4444444444444444,
              "#bd3786"
             ],
             [
              0.5555555555555556,
              "#d8576b"
             ],
             [
              0.6666666666666666,
              "#ed7953"
             ],
             [
              0.7777777777777778,
              "#fb9f3a"
             ],
             [
              0.8888888888888888,
              "#fdca26"
             ],
             [
              1,
              "#f0f921"
             ]
            ],
            "type": "histogram2d"
           }
          ],
          "histogram2dcontour": [
           {
            "colorbar": {
             "outlinewidth": 0,
             "ticks": ""
            },
            "colorscale": [
             [
              0,
              "#0d0887"
             ],
             [
              0.1111111111111111,
              "#46039f"
             ],
             [
              0.2222222222222222,
              "#7201a8"
             ],
             [
              0.3333333333333333,
              "#9c179e"
             ],
             [
              0.4444444444444444,
              "#bd3786"
             ],
             [
              0.5555555555555556,
              "#d8576b"
             ],
             [
              0.6666666666666666,
              "#ed7953"
             ],
             [
              0.7777777777777778,
              "#fb9f3a"
             ],
             [
              0.8888888888888888,
              "#fdca26"
             ],
             [
              1,
              "#f0f921"
             ]
            ],
            "type": "histogram2dcontour"
           }
          ],
          "mesh3d": [
           {
            "colorbar": {
             "outlinewidth": 0,
             "ticks": ""
            },
            "type": "mesh3d"
           }
          ],
          "parcoords": [
           {
            "line": {
             "colorbar": {
              "outlinewidth": 0,
              "ticks": ""
             }
            },
            "type": "parcoords"
           }
          ],
          "pie": [
           {
            "automargin": true,
            "type": "pie"
           }
          ],
          "scatter": [
           {
            "fillpattern": {
             "fillmode": "overlay",
             "size": 10,
             "solidity": 0.2
            },
            "type": "scatter"
           }
          ],
          "scatter3d": [
           {
            "line": {
             "colorbar": {
              "outlinewidth": 0,
              "ticks": ""
             }
            },
            "marker": {
             "colorbar": {
              "outlinewidth": 0,
              "ticks": ""
             }
            },
            "type": "scatter3d"
           }
          ],
          "scattercarpet": [
           {
            "marker": {
             "colorbar": {
              "outlinewidth": 0,
              "ticks": ""
             }
            },
            "type": "scattercarpet"
           }
          ],
          "scattergeo": [
           {
            "marker": {
             "colorbar": {
              "outlinewidth": 0,
              "ticks": ""
             }
            },
            "type": "scattergeo"
           }
          ],
          "scattergl": [
           {
            "marker": {
             "colorbar": {
              "outlinewidth": 0,
              "ticks": ""
             }
            },
            "type": "scattergl"
           }
          ],
          "scattermapbox": [
           {
            "marker": {
             "colorbar": {
              "outlinewidth": 0,
              "ticks": ""
             }
            },
            "type": "scattermapbox"
           }
          ],
          "scatterpolar": [
           {
            "marker": {
             "colorbar": {
              "outlinewidth": 0,
              "ticks": ""
             }
            },
            "type": "scatterpolar"
           }
          ],
          "scatterpolargl": [
           {
            "marker": {
             "colorbar": {
              "outlinewidth": 0,
              "ticks": ""
             }
            },
            "type": "scatterpolargl"
           }
          ],
          "scatterternary": [
           {
            "marker": {
             "colorbar": {
              "outlinewidth": 0,
              "ticks": ""
             }
            },
            "type": "scatterternary"
           }
          ],
          "surface": [
           {
            "colorbar": {
             "outlinewidth": 0,
             "ticks": ""
            },
            "colorscale": [
             [
              0,
              "#0d0887"
             ],
             [
              0.1111111111111111,
              "#46039f"
             ],
             [
              0.2222222222222222,
              "#7201a8"
             ],
             [
              0.3333333333333333,
              "#9c179e"
             ],
             [
              0.4444444444444444,
              "#bd3786"
             ],
             [
              0.5555555555555556,
              "#d8576b"
             ],
             [
              0.6666666666666666,
              "#ed7953"
             ],
             [
              0.7777777777777778,
              "#fb9f3a"
             ],
             [
              0.8888888888888888,
              "#fdca26"
             ],
             [
              1,
              "#f0f921"
             ]
            ],
            "type": "surface"
           }
          ],
          "table": [
           {
            "cells": {
             "fill": {
              "color": "#EBF0F8"
             },
             "line": {
              "color": "white"
             }
            },
            "header": {
             "fill": {
              "color": "#C8D4E3"
             },
             "line": {
              "color": "white"
             }
            },
            "type": "table"
           }
          ]
         },
         "layout": {
          "annotationdefaults": {
           "arrowcolor": "#2a3f5f",
           "arrowhead": 0,
           "arrowwidth": 1
          },
          "autotypenumbers": "strict",
          "coloraxis": {
           "colorbar": {
            "outlinewidth": 0,
            "ticks": ""
           }
          },
          "colorscale": {
           "diverging": [
            [
             0,
             "#8e0152"
            ],
            [
             0.1,
             "#c51b7d"
            ],
            [
             0.2,
             "#de77ae"
            ],
            [
             0.3,
             "#f1b6da"
            ],
            [
             0.4,
             "#fde0ef"
            ],
            [
             0.5,
             "#f7f7f7"
            ],
            [
             0.6,
             "#e6f5d0"
            ],
            [
             0.7,
             "#b8e186"
            ],
            [
             0.8,
             "#7fbc41"
            ],
            [
             0.9,
             "#4d9221"
            ],
            [
             1,
             "#276419"
            ]
           ],
           "sequential": [
            [
             0,
             "#0d0887"
            ],
            [
             0.1111111111111111,
             "#46039f"
            ],
            [
             0.2222222222222222,
             "#7201a8"
            ],
            [
             0.3333333333333333,
             "#9c179e"
            ],
            [
             0.4444444444444444,
             "#bd3786"
            ],
            [
             0.5555555555555556,
             "#d8576b"
            ],
            [
             0.6666666666666666,
             "#ed7953"
            ],
            [
             0.7777777777777778,
             "#fb9f3a"
            ],
            [
             0.8888888888888888,
             "#fdca26"
            ],
            [
             1,
             "#f0f921"
            ]
           ],
           "sequentialminus": [
            [
             0,
             "#0d0887"
            ],
            [
             0.1111111111111111,
             "#46039f"
            ],
            [
             0.2222222222222222,
             "#7201a8"
            ],
            [
             0.3333333333333333,
             "#9c179e"
            ],
            [
             0.4444444444444444,
             "#bd3786"
            ],
            [
             0.5555555555555556,
             "#d8576b"
            ],
            [
             0.6666666666666666,
             "#ed7953"
            ],
            [
             0.7777777777777778,
             "#fb9f3a"
            ],
            [
             0.8888888888888888,
             "#fdca26"
            ],
            [
             1,
             "#f0f921"
            ]
           ]
          },
          "colorway": [
           "#636efa",
           "#EF553B",
           "#00cc96",
           "#ab63fa",
           "#FFA15A",
           "#19d3f3",
           "#FF6692",
           "#B6E880",
           "#FF97FF",
           "#FECB52"
          ],
          "font": {
           "color": "#2a3f5f"
          },
          "geo": {
           "bgcolor": "white",
           "lakecolor": "white",
           "landcolor": "#E5ECF6",
           "showlakes": true,
           "showland": true,
           "subunitcolor": "white"
          },
          "hoverlabel": {
           "align": "left"
          },
          "hovermode": "closest",
          "mapbox": {
           "style": "light"
          },
          "paper_bgcolor": "white",
          "plot_bgcolor": "#E5ECF6",
          "polar": {
           "angularaxis": {
            "gridcolor": "white",
            "linecolor": "white",
            "ticks": ""
           },
           "bgcolor": "#E5ECF6",
           "radialaxis": {
            "gridcolor": "white",
            "linecolor": "white",
            "ticks": ""
           }
          },
          "scene": {
           "xaxis": {
            "backgroundcolor": "#E5ECF6",
            "gridcolor": "white",
            "gridwidth": 2,
            "linecolor": "white",
            "showbackground": true,
            "ticks": "",
            "zerolinecolor": "white"
           },
           "yaxis": {
            "backgroundcolor": "#E5ECF6",
            "gridcolor": "white",
            "gridwidth": 2,
            "linecolor": "white",
            "showbackground": true,
            "ticks": "",
            "zerolinecolor": "white"
           },
           "zaxis": {
            "backgroundcolor": "#E5ECF6",
            "gridcolor": "white",
            "gridwidth": 2,
            "linecolor": "white",
            "showbackground": true,
            "ticks": "",
            "zerolinecolor": "white"
           }
          },
          "shapedefaults": {
           "line": {
            "color": "#2a3f5f"
           }
          },
          "ternary": {
           "aaxis": {
            "gridcolor": "white",
            "linecolor": "white",
            "ticks": ""
           },
           "baxis": {
            "gridcolor": "white",
            "linecolor": "white",
            "ticks": ""
           },
           "bgcolor": "#E5ECF6",
           "caxis": {
            "gridcolor": "white",
            "linecolor": "white",
            "ticks": ""
           }
          },
          "title": {
           "x": 0.05
          },
          "xaxis": {
           "automargin": true,
           "gridcolor": "white",
           "linecolor": "white",
           "ticks": "",
           "title": {
            "standoff": 15
           },
           "zerolinecolor": "white",
           "zerolinewidth": 2
          },
          "yaxis": {
           "automargin": true,
           "gridcolor": "white",
           "linecolor": "white",
           "ticks": "",
           "title": {
            "standoff": 15
           },
           "zerolinecolor": "white",
           "zerolinewidth": 2
          }
         }
        }
       }
      },
      "text/html": [
       "<div>                            <div id=\"29c963ac-5515-486a-a215-eee04eca0ffb\" class=\"plotly-graph-div\" style=\"height:525px; width:100%;\"></div>            <script type=\"text/javascript\">                require([\"plotly\"], function(Plotly) {                    window.PLOTLYENV=window.PLOTLYENV || {};                                    if (document.getElementById(\"29c963ac-5515-486a-a215-eee04eca0ffb\")) {                    Plotly.newPlot(                        \"29c963ac-5515-486a-a215-eee04eca0ffb\",                        [{\"cells\":{\"values\":[[\"KEZNIT\",\"WHZ\",\"DEMON1\",\"ASPAS\",\"JINGGG\",\"ARDIIS\",\"ALFAJER\",\"AAAAY\",\"SAYAPLAYER\",\"JAWGEMO\",\"BUZZ\",\"LESS\",\"FIT1NHO\",\"ZMJJKK\",\"DEP\",\"SAYF\",\"VICTOR\",\"CNED\",\"DERKE\",\"CAUANZIN\",\"CLOUD\",\"MUNCHKIN\",\"NATS\",\"SOMETHING\",\"MRFALIN\",\"LYSOAR\",\"YOSEMITE\",\"YUICAW\",\"LEO\",\"F0RSAKEN\",\"HOODY\",\"SMOGGY\",\"ZEST\",\"NOBODY\",\"ZYPPAN\",\"CHICHOO\",\"ATA KAPTAN\",\"C0M\",\"ETHAN\",\"SUYGETSU\",\"QRAXS\",\"D4V41\",\"MOJJ\",\"QW1\",\"MAKO\",\"KNIGHT\",\"BIANK\",\"BOOSTIO\",\"XETA\",\"NUKKYE\",\"SAADHAK\",\"CRASHIES\",\"DAVEEYS\",\"BOASTER\",\"ANGE1\",\"BAN\",\"STAX\",\"RHYME\",\"S0M\",\"CHRONICLE\",\"FNS\",\"HAODONG\",\"SHAO\",\"MINDFREAK \",\"TUYZ\",\"RB\",\"REDGAR\",\"JAMPPI\",\"KLAUS\",\"BERLIN\",\"LAZ\",\"CARPE\",\"NAGZ\",\"TENNN\",\"MELSER\",\"RIN\",\"TZH\",\"SOULCAS\",\"SUGARZ3RO\",\"CROW\"],[1.42,1.39,1.65,1.48,1.35,1.36,1.6,1.61,1.27,1.58,1.27,1.5,1.26,1.28,1.16,1.39,1.32,1.45,1.38,1.71,1.66,1.22,1.31,1.39,1.63,1.17,1.42,1.05,2.17,1.47,1.65,1.27,1.43,1.37,1.26,1.5,1.63,1.61,1.87,1.47,1.52,1.74,1.32,1.03,1.73,1.35,1.37,1.22,1.33,1.14,1.58,1.5,1.4,1.52,1.29,1.25,1.42,1.6,1.71,1.54,1.29,1.49,1.51,1.57,1.73,1.08,1.14,0.93,1.07,1.02,0.98,0.99,1.2,0.8,0.98,1.21,1.1,1.18,1.06,0.85],[1.12,1.17,1.39,1.25,1.02,1.12,1.38,1.33,1.11,1.11,1.02,1.2,1.02,1.04,1.07,1.01,1.07,1.2,1.14,1.12,1.1,0.92,1.09,1.09,1.11,0.95,1.03,0.86,1.36,1.0,1.0,0.98,0.98,0.93,0.88,1.03,0.88,1.12,1.0,1.2,0.93,1.07,0.92,0.92,0.96,0.91,0.89,0.86,0.94,0.88,0.87,1.01,1.11,0.89,0.74,0.81,0.91,0.83,1.07,0.88,0.72,0.83,0.97,0.97,0.95,0.85,0.69,0.84,0.71,0.59,0.8,0.67,0.71,0.66,0.63,0.73,0.71,0.75,0.65,0.47]]},\"header\":{\"values\":[\"Player\",\"KDA\",\"KD\"]},\"type\":\"table\"}],                        {\"template\":{\"data\":{\"histogram2dcontour\":[{\"type\":\"histogram2dcontour\",\"colorbar\":{\"outlinewidth\":0,\"ticks\":\"\"},\"colorscale\":[[0.0,\"#0d0887\"],[0.1111111111111111,\"#46039f\"],[0.2222222222222222,\"#7201a8\"],[0.3333333333333333,\"#9c179e\"],[0.4444444444444444,\"#bd3786\"],[0.5555555555555556,\"#d8576b\"],[0.6666666666666666,\"#ed7953\"],[0.7777777777777778,\"#fb9f3a\"],[0.8888888888888888,\"#fdca26\"],[1.0,\"#f0f921\"]]}],\"choropleth\":[{\"type\":\"choropleth\",\"colorbar\":{\"outlinewidth\":0,\"ticks\":\"\"}}],\"histogram2d\":[{\"type\":\"histogram2d\",\"colorbar\":{\"outlinewidth\":0,\"ticks\":\"\"},\"colorscale\":[[0.0,\"#0d0887\"],[0.1111111111111111,\"#46039f\"],[0.2222222222222222,\"#7201a8\"],[0.3333333333333333,\"#9c179e\"],[0.4444444444444444,\"#bd3786\"],[0.5555555555555556,\"#d8576b\"],[0.6666666666666666,\"#ed7953\"],[0.7777777777777778,\"#fb9f3a\"],[0.8888888888888888,\"#fdca26\"],[1.0,\"#f0f921\"]]}],\"heatmap\":[{\"type\":\"heatmap\",\"colorbar\":{\"outlinewidth\":0,\"ticks\":\"\"},\"colorscale\":[[0.0,\"#0d0887\"],[0.1111111111111111,\"#46039f\"],[0.2222222222222222,\"#7201a8\"],[0.3333333333333333,\"#9c179e\"],[0.4444444444444444,\"#bd3786\"],[0.5555555555555556,\"#d8576b\"],[0.6666666666666666,\"#ed7953\"],[0.7777777777777778,\"#fb9f3a\"],[0.8888888888888888,\"#fdca26\"],[1.0,\"#f0f921\"]]}],\"heatmapgl\":[{\"type\":\"heatmapgl\",\"colorbar\":{\"outlinewidth\":0,\"ticks\":\"\"},\"colorscale\":[[0.0,\"#0d0887\"],[0.1111111111111111,\"#46039f\"],[0.2222222222222222,\"#7201a8\"],[0.3333333333333333,\"#9c179e\"],[0.4444444444444444,\"#bd3786\"],[0.5555555555555556,\"#d8576b\"],[0.6666666666666666,\"#ed7953\"],[0.7777777777777778,\"#fb9f3a\"],[0.8888888888888888,\"#fdca26\"],[1.0,\"#f0f921\"]]}],\"contourcarpet\":[{\"type\":\"contourcarpet\",\"colorbar\":{\"outlinewidth\":0,\"ticks\":\"\"}}],\"contour\":[{\"type\":\"contour\",\"colorbar\":{\"outlinewidth\":0,\"ticks\":\"\"},\"colorscale\":[[0.0,\"#0d0887\"],[0.1111111111111111,\"#46039f\"],[0.2222222222222222,\"#7201a8\"],[0.3333333333333333,\"#9c179e\"],[0.4444444444444444,\"#bd3786\"],[0.5555555555555556,\"#d8576b\"],[0.6666666666666666,\"#ed7953\"],[0.7777777777777778,\"#fb9f3a\"],[0.8888888888888888,\"#fdca26\"],[1.0,\"#f0f921\"]]}],\"surface\":[{\"type\":\"surface\",\"colorbar\":{\"outlinewidth\":0,\"ticks\":\"\"},\"colorscale\":[[0.0,\"#0d0887\"],[0.1111111111111111,\"#46039f\"],[0.2222222222222222,\"#7201a8\"],[0.3333333333333333,\"#9c179e\"],[0.4444444444444444,\"#bd3786\"],[0.5555555555555556,\"#d8576b\"],[0.6666666666666666,\"#ed7953\"],[0.7777777777777778,\"#fb9f3a\"],[0.8888888888888888,\"#fdca26\"],[1.0,\"#f0f921\"]]}],\"mesh3d\":[{\"type\":\"mesh3d\",\"colorbar\":{\"outlinewidth\":0,\"ticks\":\"\"}}],\"scatter\":[{\"fillpattern\":{\"fillmode\":\"overlay\",\"size\":10,\"solidity\":0.2},\"type\":\"scatter\"}],\"parcoords\":[{\"type\":\"parcoords\",\"line\":{\"colorbar\":{\"outlinewidth\":0,\"ticks\":\"\"}}}],\"scatterpolargl\":[{\"type\":\"scatterpolargl\",\"marker\":{\"colorbar\":{\"outlinewidth\":0,\"ticks\":\"\"}}}],\"bar\":[{\"error_x\":{\"color\":\"#2a3f5f\"},\"error_y\":{\"color\":\"#2a3f5f\"},\"marker\":{\"line\":{\"color\":\"#E5ECF6\",\"width\":0.5},\"pattern\":{\"fillmode\":\"overlay\",\"size\":10,\"solidity\":0.2}},\"type\":\"bar\"}],\"scattergeo\":[{\"type\":\"scattergeo\",\"marker\":{\"colorbar\":{\"outlinewidth\":0,\"ticks\":\"\"}}}],\"scatterpolar\":[{\"type\":\"scatterpolar\",\"marker\":{\"colorbar\":{\"outlinewidth\":0,\"ticks\":\"\"}}}],\"histogram\":[{\"marker\":{\"pattern\":{\"fillmode\":\"overlay\",\"size\":10,\"solidity\":0.2}},\"type\":\"histogram\"}],\"scattergl\":[{\"type\":\"scattergl\",\"marker\":{\"colorbar\":{\"outlinewidth\":0,\"ticks\":\"\"}}}],\"scatter3d\":[{\"type\":\"scatter3d\",\"line\":{\"colorbar\":{\"outlinewidth\":0,\"ticks\":\"\"}},\"marker\":{\"colorbar\":{\"outlinewidth\":0,\"ticks\":\"\"}}}],\"scattermapbox\":[{\"type\":\"scattermapbox\",\"marker\":{\"colorbar\":{\"outlinewidth\":0,\"ticks\":\"\"}}}],\"scatterternary\":[{\"type\":\"scatterternary\",\"marker\":{\"colorbar\":{\"outlinewidth\":0,\"ticks\":\"\"}}}],\"scattercarpet\":[{\"type\":\"scattercarpet\",\"marker\":{\"colorbar\":{\"outlinewidth\":0,\"ticks\":\"\"}}}],\"carpet\":[{\"aaxis\":{\"endlinecolor\":\"#2a3f5f\",\"gridcolor\":\"white\",\"linecolor\":\"white\",\"minorgridcolor\":\"white\",\"startlinecolor\":\"#2a3f5f\"},\"baxis\":{\"endlinecolor\":\"#2a3f5f\",\"gridcolor\":\"white\",\"linecolor\":\"white\",\"minorgridcolor\":\"white\",\"startlinecolor\":\"#2a3f5f\"},\"type\":\"carpet\"}],\"table\":[{\"cells\":{\"fill\":{\"color\":\"#EBF0F8\"},\"line\":{\"color\":\"white\"}},\"header\":{\"fill\":{\"color\":\"#C8D4E3\"},\"line\":{\"color\":\"white\"}},\"type\":\"table\"}],\"barpolar\":[{\"marker\":{\"line\":{\"color\":\"#E5ECF6\",\"width\":0.5},\"pattern\":{\"fillmode\":\"overlay\",\"size\":10,\"solidity\":0.2}},\"type\":\"barpolar\"}],\"pie\":[{\"automargin\":true,\"type\":\"pie\"}]},\"layout\":{\"autotypenumbers\":\"strict\",\"colorway\":[\"#636efa\",\"#EF553B\",\"#00cc96\",\"#ab63fa\",\"#FFA15A\",\"#19d3f3\",\"#FF6692\",\"#B6E880\",\"#FF97FF\",\"#FECB52\"],\"font\":{\"color\":\"#2a3f5f\"},\"hovermode\":\"closest\",\"hoverlabel\":{\"align\":\"left\"},\"paper_bgcolor\":\"white\",\"plot_bgcolor\":\"#E5ECF6\",\"polar\":{\"bgcolor\":\"#E5ECF6\",\"angularaxis\":{\"gridcolor\":\"white\",\"linecolor\":\"white\",\"ticks\":\"\"},\"radialaxis\":{\"gridcolor\":\"white\",\"linecolor\":\"white\",\"ticks\":\"\"}},\"ternary\":{\"bgcolor\":\"#E5ECF6\",\"aaxis\":{\"gridcolor\":\"white\",\"linecolor\":\"white\",\"ticks\":\"\"},\"baxis\":{\"gridcolor\":\"white\",\"linecolor\":\"white\",\"ticks\":\"\"},\"caxis\":{\"gridcolor\":\"white\",\"linecolor\":\"white\",\"ticks\":\"\"}},\"coloraxis\":{\"colorbar\":{\"outlinewidth\":0,\"ticks\":\"\"}},\"colorscale\":{\"sequential\":[[0.0,\"#0d0887\"],[0.1111111111111111,\"#46039f\"],[0.2222222222222222,\"#7201a8\"],[0.3333333333333333,\"#9c179e\"],[0.4444444444444444,\"#bd3786\"],[0.5555555555555556,\"#d8576b\"],[0.6666666666666666,\"#ed7953\"],[0.7777777777777778,\"#fb9f3a\"],[0.8888888888888888,\"#fdca26\"],[1.0,\"#f0f921\"]],\"sequentialminus\":[[0.0,\"#0d0887\"],[0.1111111111111111,\"#46039f\"],[0.2222222222222222,\"#7201a8\"],[0.3333333333333333,\"#9c179e\"],[0.4444444444444444,\"#bd3786\"],[0.5555555555555556,\"#d8576b\"],[0.6666666666666666,\"#ed7953\"],[0.7777777777777778,\"#fb9f3a\"],[0.8888888888888888,\"#fdca26\"],[1.0,\"#f0f921\"]],\"diverging\":[[0,\"#8e0152\"],[0.1,\"#c51b7d\"],[0.2,\"#de77ae\"],[0.3,\"#f1b6da\"],[0.4,\"#fde0ef\"],[0.5,\"#f7f7f7\"],[0.6,\"#e6f5d0\"],[0.7,\"#b8e186\"],[0.8,\"#7fbc41\"],[0.9,\"#4d9221\"],[1,\"#276419\"]]},\"xaxis\":{\"gridcolor\":\"white\",\"linecolor\":\"white\",\"ticks\":\"\",\"title\":{\"standoff\":15},\"zerolinecolor\":\"white\",\"automargin\":true,\"zerolinewidth\":2},\"yaxis\":{\"gridcolor\":\"white\",\"linecolor\":\"white\",\"ticks\":\"\",\"title\":{\"standoff\":15},\"zerolinecolor\":\"white\",\"automargin\":true,\"zerolinewidth\":2},\"scene\":{\"xaxis\":{\"backgroundcolor\":\"#E5ECF6\",\"gridcolor\":\"white\",\"linecolor\":\"white\",\"showbackground\":true,\"ticks\":\"\",\"zerolinecolor\":\"white\",\"gridwidth\":2},\"yaxis\":{\"backgroundcolor\":\"#E5ECF6\",\"gridcolor\":\"white\",\"linecolor\":\"white\",\"showbackground\":true,\"ticks\":\"\",\"zerolinecolor\":\"white\",\"gridwidth\":2},\"zaxis\":{\"backgroundcolor\":\"#E5ECF6\",\"gridcolor\":\"white\",\"linecolor\":\"white\",\"showbackground\":true,\"ticks\":\"\",\"zerolinecolor\":\"white\",\"gridwidth\":2}},\"shapedefaults\":{\"line\":{\"color\":\"#2a3f5f\"}},\"annotationdefaults\":{\"arrowcolor\":\"#2a3f5f\",\"arrowhead\":0,\"arrowwidth\":1},\"geo\":{\"bgcolor\":\"white\",\"landcolor\":\"#E5ECF6\",\"subunitcolor\":\"white\",\"showland\":true,\"showlakes\":true,\"lakecolor\":\"white\"},\"title\":{\"x\":0.05},\"mapbox\":{\"style\":\"light\"}}}},                        {\"responsive\": true}                    ).then(function(){\n",
       "                            \n",
       "var gd = document.getElementById('29c963ac-5515-486a-a215-eee04eca0ffb');\n",
       "var x = new MutationObserver(function (mutations, observer) {{\n",
       "        var display = window.getComputedStyle(gd).display;\n",
       "        if (!display || display === 'none') {{\n",
       "            console.log([gd, 'removed!']);\n",
       "            Plotly.purge(gd);\n",
       "            observer.disconnect();\n",
       "        }}\n",
       "}});\n",
       "\n",
       "// Listen for the removal of the full notebook cells\n",
       "var notebookContainer = gd.closest('#notebook-container');\n",
       "if (notebookContainer) {{\n",
       "    x.observe(notebookContainer, {childList: true});\n",
       "}}\n",
       "\n",
       "// Listen for the clearing of the current output cell\n",
       "var outputEl = gd.closest('.output');\n",
       "if (outputEl) {{\n",
       "    x.observe(outputEl, {childList: true});\n",
       "}}\n",
       "\n",
       "                        })                };                });            </script>        </div>"
      ]
     },
     "metadata": {},
     "output_type": "display_data"
    }
   ],
   "source": [
    "# import library\n",
    "import plotly.graph_objs as go\n",
    "\n",
    "# Create a table with the 'Player', 'KDA', and 'KD' columns\n",
    "table = go.Figure(data=[go.Table(\n",
    "    header=dict(values=['Player', 'KDA', 'KD']),\n",
    "    cells=dict(values=[df['Player'], df['KDA'], df['KD']]))\n",
    "])\n",
    "\n",
    "# Show the table\n",
    "table.show()"
   ]
  },
  {
   "cell_type": "code",
   "execution_count": 36,
   "id": "7a7ac7d6",
   "metadata": {},
   "outputs": [
    {
     "name": "stdout",
     "output_type": "stream",
     "text": [
      "Requirement already satisfied: peakutils in c:\\users\\krise\\anaconda3\\lib\\site-packages (1.3.4)\n",
      "Requirement already satisfied: scipy in c:\\users\\krise\\anaconda3\\lib\\site-packages (from peakutils) (1.10.0)\n",
      "Requirement already satisfied: numpy in c:\\users\\krise\\anaconda3\\lib\\site-packages (from peakutils) (1.23.5)\n"
     ]
    }
   ],
   "source": [
    "# install necessary packages\n",
    "!pip install peakutils"
   ]
  },
  {
   "cell_type": "code",
   "execution_count": 37,
   "id": "073fba27",
   "metadata": {
    "scrolled": false
   },
   "outputs": [
    {
     "data": {
      "application/vnd.plotly.v1+json": {
       "config": {
        "plotlyServerURL": "https://plot.ly"
       },
       "data": [
        {
         "hoverinfo": "text",
         "mode": "lines+markers",
         "name": "Original KDA",
         "text": [
          "Player: KEZNIT<br>KDA: 1.42",
          "Player: WHZ<br>KDA: 1.39",
          "Player: DEMON1<br>KDA: 1.65",
          "Player: ASPAS<br>KDA: 1.48",
          "Player: JINGGG<br>KDA: 1.35",
          "Player: ARDIIS<br>KDA: 1.36",
          "Player: ALFAJER<br>KDA: 1.60",
          "Player: AAAAY<br>KDA: 1.61",
          "Player: SAYAPLAYER<br>KDA: 1.27",
          "Player: JAWGEMO<br>KDA: 1.58",
          "Player: BUZZ<br>KDA: 1.27",
          "Player: LESS<br>KDA: 1.50",
          "Player: FIT1NHO<br>KDA: 1.26",
          "Player: ZMJJKK<br>KDA: 1.28",
          "Player: DEP<br>KDA: 1.16",
          "Player: SAYF<br>KDA: 1.39",
          "Player: VICTOR<br>KDA: 1.32",
          "Player: CNED<br>KDA: 1.45",
          "Player: DERKE<br>KDA: 1.38",
          "Player: CAUANZIN<br>KDA: 1.71",
          "Player: CLOUD<br>KDA: 1.66",
          "Player: MUNCHKIN<br>KDA: 1.22",
          "Player: NATS<br>KDA: 1.31",
          "Player: SOMETHING<br>KDA: 1.39",
          "Player: MRFALIN<br>KDA: 1.63",
          "Player: LYSOAR<br>KDA: 1.17",
          "Player: YOSEMITE<br>KDA: 1.42",
          "Player: YUICAW<br>KDA: 1.05",
          "Player: LEO<br>KDA: 2.17",
          "Player: F0RSAKEN<br>KDA: 1.47",
          "Player: HOODY<br>KDA: 1.65",
          "Player: SMOGGY<br>KDA: 1.27",
          "Player: ZEST<br>KDA: 1.43",
          "Player: NOBODY<br>KDA: 1.37",
          "Player: ZYPPAN<br>KDA: 1.26",
          "Player: CHICHOO<br>KDA: 1.50",
          "Player: ATA KAPTAN<br>KDA: 1.63",
          "Player: C0M<br>KDA: 1.61",
          "Player: ETHAN<br>KDA: 1.87",
          "Player: SUYGETSU<br>KDA: 1.47",
          "Player: QRAXS<br>KDA: 1.52",
          "Player: D4V41<br>KDA: 1.74",
          "Player: MOJJ<br>KDA: 1.32",
          "Player: QW1<br>KDA: 1.03",
          "Player: MAKO<br>KDA: 1.73",
          "Player: KNIGHT<br>KDA: 1.35",
          "Player: BIANK<br>KDA: 1.37",
          "Player: BOOSTIO<br>KDA: 1.22",
          "Player: XETA<br>KDA: 1.33",
          "Player: NUKKYE<br>KDA: 1.14",
          "Player: SAADHAK<br>KDA: 1.58",
          "Player: CRASHIES<br>KDA: 1.50",
          "Player: DAVEEYS<br>KDA: 1.40",
          "Player: BOASTER<br>KDA: 1.52",
          "Player: ANGE1<br>KDA: 1.29",
          "Player: BAN<br>KDA: 1.25",
          "Player: STAX<br>KDA: 1.42",
          "Player: RHYME<br>KDA: 1.60",
          "Player: S0M<br>KDA: 1.71",
          "Player: CHRONICLE<br>KDA: 1.54",
          "Player: FNS<br>KDA: 1.29",
          "Player: HAODONG<br>KDA: 1.49",
          "Player: SHAO<br>KDA: 1.51",
          "Player: MINDFREAK <br>KDA: 1.57",
          "Player: TUYZ<br>KDA: 1.73",
          "Player: RB<br>KDA: 1.08",
          "Player: REDGAR<br>KDA: 1.14",
          "Player: JAMPPI<br>KDA: 0.93",
          "Player: KLAUS<br>KDA: 1.07",
          "Player: BERLIN<br>KDA: 1.02",
          "Player: LAZ<br>KDA: 0.98",
          "Player: CARPE<br>KDA: 0.99",
          "Player: NAGZ<br>KDA: 1.20",
          "Player: TENNN<br>KDA: 0.80",
          "Player: MELSER<br>KDA: 0.98",
          "Player: RIN<br>KDA: 1.21",
          "Player: TZH<br>KDA: 1.10",
          "Player: SOULCAS<br>KDA: 1.18",
          "Player: SUGARZ3RO<br>KDA: 1.06",
          "Player: CROW<br>KDA: 0.85"
         ],
         "type": "scatter",
         "x": [
          0,
          1,
          2,
          3,
          4,
          5,
          6,
          7,
          8,
          9,
          10,
          11,
          12,
          13,
          14,
          15,
          16,
          17,
          18,
          19,
          20,
          21,
          22,
          23,
          24,
          25,
          26,
          27,
          28,
          29,
          30,
          31,
          32,
          33,
          34,
          35,
          36,
          37,
          38,
          39,
          40,
          41,
          42,
          43,
          44,
          45,
          46,
          47,
          48,
          49,
          50,
          51,
          52,
          53,
          54,
          55,
          56,
          57,
          58,
          59,
          60,
          61,
          62,
          63,
          64,
          65,
          66,
          67,
          68,
          69,
          70,
          71,
          72,
          73,
          74,
          75,
          76,
          77,
          78,
          79
         ],
         "y": [
          1.42,
          1.39,
          1.65,
          1.48,
          1.35,
          1.36,
          1.6,
          1.61,
          1.27,
          1.58,
          1.27,
          1.5,
          1.26,
          1.28,
          1.16,
          1.39,
          1.32,
          1.45,
          1.38,
          1.71,
          1.66,
          1.22,
          1.31,
          1.39,
          1.63,
          1.17,
          1.42,
          1.05,
          2.17,
          1.47,
          1.65,
          1.27,
          1.43,
          1.37,
          1.26,
          1.5,
          1.63,
          1.61,
          1.87,
          1.47,
          1.52,
          1.74,
          1.32,
          1.03,
          1.73,
          1.35,
          1.37,
          1.22,
          1.33,
          1.14,
          1.58,
          1.5,
          1.4,
          1.52,
          1.29,
          1.25,
          1.42,
          1.6,
          1.71,
          1.54,
          1.29,
          1.49,
          1.51,
          1.57,
          1.73,
          1.08,
          1.14,
          0.93,
          1.07,
          1.02,
          0.98,
          0.99,
          1.2,
          0.8,
          0.98,
          1.21,
          1.1,
          1.18,
          1.06,
          0.85
         ]
        },
        {
         "hoverinfo": "text",
         "mode": "lines+markers",
         "name": "Original KD",
         "text": [
          "Player: KEZNIT<br>KD: 1.12",
          "Player: WHZ<br>KD: 1.17",
          "Player: DEMON1<br>KD: 1.39",
          "Player: ASPAS<br>KD: 1.25",
          "Player: JINGGG<br>KD: 1.02",
          "Player: ARDIIS<br>KD: 1.12",
          "Player: ALFAJER<br>KD: 1.38",
          "Player: AAAAY<br>KD: 1.33",
          "Player: SAYAPLAYER<br>KD: 1.11",
          "Player: JAWGEMO<br>KD: 1.11",
          "Player: BUZZ<br>KD: 1.02",
          "Player: LESS<br>KD: 1.20",
          "Player: FIT1NHO<br>KD: 1.02",
          "Player: ZMJJKK<br>KD: 1.04",
          "Player: DEP<br>KD: 1.07",
          "Player: SAYF<br>KD: 1.01",
          "Player: VICTOR<br>KD: 1.07",
          "Player: CNED<br>KD: 1.20",
          "Player: DERKE<br>KD: 1.14",
          "Player: CAUANZIN<br>KD: 1.12",
          "Player: CLOUD<br>KD: 1.10",
          "Player: MUNCHKIN<br>KD: 0.92",
          "Player: NATS<br>KD: 1.09",
          "Player: SOMETHING<br>KD: 1.09",
          "Player: MRFALIN<br>KD: 1.11",
          "Player: LYSOAR<br>KD: 0.95",
          "Player: YOSEMITE<br>KD: 1.03",
          "Player: YUICAW<br>KD: 0.86",
          "Player: LEO<br>KD: 1.36",
          "Player: F0RSAKEN<br>KD: 1.00",
          "Player: HOODY<br>KD: 1.00",
          "Player: SMOGGY<br>KD: 0.98",
          "Player: ZEST<br>KD: 0.98",
          "Player: NOBODY<br>KD: 0.93",
          "Player: ZYPPAN<br>KD: 0.88",
          "Player: CHICHOO<br>KD: 1.03",
          "Player: ATA KAPTAN<br>KD: 0.88",
          "Player: C0M<br>KD: 1.12",
          "Player: ETHAN<br>KD: 1.00",
          "Player: SUYGETSU<br>KD: 1.20",
          "Player: QRAXS<br>KD: 0.93",
          "Player: D4V41<br>KD: 1.07",
          "Player: MOJJ<br>KD: 0.92",
          "Player: QW1<br>KD: 0.92",
          "Player: MAKO<br>KD: 0.96",
          "Player: KNIGHT<br>KD: 0.91",
          "Player: BIANK<br>KD: 0.89",
          "Player: BOOSTIO<br>KD: 0.86",
          "Player: XETA<br>KD: 0.94",
          "Player: NUKKYE<br>KD: 0.88",
          "Player: SAADHAK<br>KD: 0.87",
          "Player: CRASHIES<br>KD: 1.01",
          "Player: DAVEEYS<br>KD: 1.11",
          "Player: BOASTER<br>KD: 0.89",
          "Player: ANGE1<br>KD: 0.74",
          "Player: BAN<br>KD: 0.81",
          "Player: STAX<br>KD: 0.91",
          "Player: RHYME<br>KD: 0.83",
          "Player: S0M<br>KD: 1.07",
          "Player: CHRONICLE<br>KD: 0.88",
          "Player: FNS<br>KD: 0.72",
          "Player: HAODONG<br>KD: 0.83",
          "Player: SHAO<br>KD: 0.97",
          "Player: MINDFREAK <br>KD: 0.97",
          "Player: TUYZ<br>KD: 0.95",
          "Player: RB<br>KD: 0.85",
          "Player: REDGAR<br>KD: 0.69",
          "Player: JAMPPI<br>KD: 0.84",
          "Player: KLAUS<br>KD: 0.71",
          "Player: BERLIN<br>KD: 0.59",
          "Player: LAZ<br>KD: 0.80",
          "Player: CARPE<br>KD: 0.67",
          "Player: NAGZ<br>KD: 0.71",
          "Player: TENNN<br>KD: 0.66",
          "Player: MELSER<br>KD: 0.63",
          "Player: RIN<br>KD: 0.73",
          "Player: TZH<br>KD: 0.71",
          "Player: SOULCAS<br>KD: 0.75",
          "Player: SUGARZ3RO<br>KD: 0.65",
          "Player: CROW<br>KD: 0.47"
         ],
         "type": "scatter",
         "x": [
          0,
          1,
          2,
          3,
          4,
          5,
          6,
          7,
          8,
          9,
          10,
          11,
          12,
          13,
          14,
          15,
          16,
          17,
          18,
          19,
          20,
          21,
          22,
          23,
          24,
          25,
          26,
          27,
          28,
          29,
          30,
          31,
          32,
          33,
          34,
          35,
          36,
          37,
          38,
          39,
          40,
          41,
          42,
          43,
          44,
          45,
          46,
          47,
          48,
          49,
          50,
          51,
          52,
          53,
          54,
          55,
          56,
          57,
          58,
          59,
          60,
          61,
          62,
          63,
          64,
          65,
          66,
          67,
          68,
          69,
          70,
          71,
          72,
          73,
          74,
          75,
          76,
          77,
          78,
          79
         ],
         "y": [
          1.12,
          1.17,
          1.39,
          1.25,
          1.02,
          1.12,
          1.38,
          1.33,
          1.11,
          1.11,
          1.02,
          1.2,
          1.02,
          1.04,
          1.07,
          1.01,
          1.07,
          1.2,
          1.14,
          1.12,
          1.1,
          0.92,
          1.09,
          1.09,
          1.11,
          0.95,
          1.03,
          0.86,
          1.36,
          1,
          1,
          0.98,
          0.98,
          0.93,
          0.88,
          1.03,
          0.88,
          1.12,
          1,
          1.2,
          0.93,
          1.07,
          0.92,
          0.92,
          0.96,
          0.91,
          0.89,
          0.86,
          0.94,
          0.88,
          0.87,
          1.01,
          1.11,
          0.89,
          0.74,
          0.81,
          0.91,
          0.83,
          1.07,
          0.88,
          0.72,
          0.83,
          0.97,
          0.97,
          0.95,
          0.85,
          0.69,
          0.84,
          0.71,
          0.59,
          0.8,
          0.67,
          0.71,
          0.66,
          0.63,
          0.73,
          0.71,
          0.75,
          0.65,
          0.47
         ]
        },
        {
         "mode": "lines",
         "name": "Baseline KDA",
         "type": "scatter",
         "x": [
          0,
          1,
          2,
          3,
          4,
          5,
          6,
          7,
          8,
          9,
          10,
          11,
          12,
          13,
          14,
          15,
          16,
          17,
          18,
          19,
          20,
          21,
          22,
          23,
          24,
          25,
          26,
          27,
          28,
          29,
          30,
          31,
          32,
          33,
          34,
          35,
          36,
          37,
          38,
          39,
          40,
          41,
          42,
          43,
          44,
          45,
          46,
          47,
          48,
          49,
          50,
          51,
          52,
          53,
          54,
          55,
          56,
          57,
          58,
          59,
          60,
          61,
          62,
          63,
          64,
          65,
          66,
          67,
          68,
          69,
          70,
          71,
          72,
          73,
          74,
          75,
          76,
          77,
          78,
          79
         ],
         "y": [
          1.4094325732234474,
          1.3815421177399303,
          1.3551909075170492,
          1.3303369687658146,
          1.3069383276972368,
          1.2849530105223264,
          1.2643390434520936,
          1.2450544526975487,
          1.2270572644697022,
          1.2103055049795648,
          1.1947572004381466,
          1.180370377056458,
          1.1671030610455095,
          1.1549132786163117,
          1.1437590559798747,
          1.133598419347209,
          1.1243893949293249,
          1.116090008937233,
          1.1086582875819437,
          1.1020522570744673,
          1.0962299436258143,
          1.091149373446995,
          1.08676857274902,
          1.0830455677428992,
          1.0799383846396438,
          1.0774050496502636,
          1.0754035889857692,
          1.0738920288571707,
          1.0728283954754794,
          1.0721707150517048,
          1.0718770137968576,
          1.071905317921948,
          1.072213653637987,
          1.0727600471559844,
          1.0735025246869512,
          1.074399112441897,
          1.0754078366318327,
          1.076486723467769,
          1.0775937991607156,
          1.0786870899216834,
          1.0797246219616827,
          1.0806644214917238,
          1.0814645147228177,
          1.082082927865974,
          1.082477687132203,
          1.0826068187325162,
          1.0824283488779227,
          1.0819003037794341,
          1.08098070964806,
          1.079627592694811,
          1.0777989791306977,
          1.0754528951667301,
          1.0725473670139187,
          1.0690404208832747,
          1.0648900829858072,
          1.060054379532528,
          1.0544913367344466,
          1.048158980802573,
          1.041015337947919,
          1.0330184343814934,
          1.0241262963143083,
          1.0142969499573729,
          1.0034884215216975,
          0.9916587372182932,
          0.97876592325817,
          0.9647680058523393,
          0.9496230112118103,
          0.9332889655475933,
          0.9157238950706996,
          0.8968858259921384,
          0.8767327845229225,
          0.8552227968740589,
          0.8323138892565611,
          0.8079640878814371,
          0.7821314189597002,
          0.7547739087023573,
          0.7258495833204204,
          0.695316469024901,
          0.6631325920268083,
          0.629255978537153
         ]
        },
        {
         "mode": "lines",
         "name": "Baseline KD",
         "type": "scatter",
         "x": [
          0,
          1,
          2,
          3,
          4,
          5,
          6,
          7,
          8,
          9,
          10,
          11,
          12,
          13,
          14,
          15,
          16,
          17,
          18,
          19,
          20,
          21,
          22,
          23,
          24,
          25,
          26,
          27,
          28,
          29,
          30,
          31,
          32,
          33,
          34,
          35,
          36,
          37,
          38,
          39,
          40,
          41,
          42,
          43,
          44,
          45,
          46,
          47,
          48,
          49,
          50,
          51,
          52,
          53,
          54,
          55,
          56,
          57,
          58,
          59,
          60,
          61,
          62,
          63,
          64,
          65,
          66,
          67,
          68,
          69,
          70,
          71,
          72,
          73,
          74,
          75,
          76,
          77,
          78,
          79
         ],
         "y": [
          1.0674218121424346,
          1.0573186598854905,
          1.0475957787506052,
          1.0382407062775525,
          1.029240980006107,
          1.0205841374760427,
          1.0122577162271336,
          1.0042492537991539,
          0.9965462877318776,
          0.9891363555650792,
          0.9820069948385326,
          0.975145743092012,
          0.9685401378652916,
          0.9621777166981453,
          0.9560460171303475,
          0.9501325767016724,
          0.944424932951894,
          0.9389106234207865,
          0.9335771856481239,
          0.9284121571736803,
          0.9234030755372302,
          0.9185374782785475,
          0.9138029029374064,
          0.9091868870535809,
          0.9046769681668454,
          0.9002606838169738,
          0.8959255715437404,
          0.8916591688869194,
          0.8874490133862847,
          0.8832826425816106,
          0.8791475940126713,
          0.8750314052192408,
          0.8709216137410933,
          0.8668057571180031,
          0.8626713728897442,
          0.8585059985960906,
          0.8542971717768166,
          0.8500324299716965,
          0.8456993107205042,
          0.8412853515630139,
          0.8367780900389997,
          0.8321650636882358,
          0.8274338100504965,
          0.8225718666655557,
          0.8175667710731878,
          0.8124060608131666,
          0.8070772734252665,
          0.8015679464492615,
          0.7958656174249259,
          0.7899578238920337,
          0.7838321033903591,
          0.7774759934596763,
          0.7708770316397595,
          0.7640227554703827,
          0.7569007024913199,
          0.7494984102423456,
          0.7418034162632335,
          0.7338032580937583,
          0.7254854732736937,
          0.7168375993428142,
          0.7078471738408936,
          0.6985017343077062,
          0.6887888182830262,
          0.6786959633066276,
          0.6682107069182845,
          0.6573205866577713,
          0.646013140064862,
          0.6342759046793308,
          0.6220964180409517,
          0.609462217689499,
          0.5963608411647467,
          0.582779826006469,
          0.5687067097544403,
          0.5541290299484344,
          0.5390343241282255,
          0.5234101298335876,
          0.5072439846042954,
          0.4905234259801222,
          0.4732359915008436,
          0.4553692187062318
         ]
        }
       ],
       "layout": {
        "template": {
         "data": {
          "bar": [
           {
            "error_x": {
             "color": "#2a3f5f"
            },
            "error_y": {
             "color": "#2a3f5f"
            },
            "marker": {
             "line": {
              "color": "#E5ECF6",
              "width": 0.5
             },
             "pattern": {
              "fillmode": "overlay",
              "size": 10,
              "solidity": 0.2
             }
            },
            "type": "bar"
           }
          ],
          "barpolar": [
           {
            "marker": {
             "line": {
              "color": "#E5ECF6",
              "width": 0.5
             },
             "pattern": {
              "fillmode": "overlay",
              "size": 10,
              "solidity": 0.2
             }
            },
            "type": "barpolar"
           }
          ],
          "carpet": [
           {
            "aaxis": {
             "endlinecolor": "#2a3f5f",
             "gridcolor": "white",
             "linecolor": "white",
             "minorgridcolor": "white",
             "startlinecolor": "#2a3f5f"
            },
            "baxis": {
             "endlinecolor": "#2a3f5f",
             "gridcolor": "white",
             "linecolor": "white",
             "minorgridcolor": "white",
             "startlinecolor": "#2a3f5f"
            },
            "type": "carpet"
           }
          ],
          "choropleth": [
           {
            "colorbar": {
             "outlinewidth": 0,
             "ticks": ""
            },
            "type": "choropleth"
           }
          ],
          "contour": [
           {
            "colorbar": {
             "outlinewidth": 0,
             "ticks": ""
            },
            "colorscale": [
             [
              0,
              "#0d0887"
             ],
             [
              0.1111111111111111,
              "#46039f"
             ],
             [
              0.2222222222222222,
              "#7201a8"
             ],
             [
              0.3333333333333333,
              "#9c179e"
             ],
             [
              0.4444444444444444,
              "#bd3786"
             ],
             [
              0.5555555555555556,
              "#d8576b"
             ],
             [
              0.6666666666666666,
              "#ed7953"
             ],
             [
              0.7777777777777778,
              "#fb9f3a"
             ],
             [
              0.8888888888888888,
              "#fdca26"
             ],
             [
              1,
              "#f0f921"
             ]
            ],
            "type": "contour"
           }
          ],
          "contourcarpet": [
           {
            "colorbar": {
             "outlinewidth": 0,
             "ticks": ""
            },
            "type": "contourcarpet"
           }
          ],
          "heatmap": [
           {
            "colorbar": {
             "outlinewidth": 0,
             "ticks": ""
            },
            "colorscale": [
             [
              0,
              "#0d0887"
             ],
             [
              0.1111111111111111,
              "#46039f"
             ],
             [
              0.2222222222222222,
              "#7201a8"
             ],
             [
              0.3333333333333333,
              "#9c179e"
             ],
             [
              0.4444444444444444,
              "#bd3786"
             ],
             [
              0.5555555555555556,
              "#d8576b"
             ],
             [
              0.6666666666666666,
              "#ed7953"
             ],
             [
              0.7777777777777778,
              "#fb9f3a"
             ],
             [
              0.8888888888888888,
              "#fdca26"
             ],
             [
              1,
              "#f0f921"
             ]
            ],
            "type": "heatmap"
           }
          ],
          "heatmapgl": [
           {
            "colorbar": {
             "outlinewidth": 0,
             "ticks": ""
            },
            "colorscale": [
             [
              0,
              "#0d0887"
             ],
             [
              0.1111111111111111,
              "#46039f"
             ],
             [
              0.2222222222222222,
              "#7201a8"
             ],
             [
              0.3333333333333333,
              "#9c179e"
             ],
             [
              0.4444444444444444,
              "#bd3786"
             ],
             [
              0.5555555555555556,
              "#d8576b"
             ],
             [
              0.6666666666666666,
              "#ed7953"
             ],
             [
              0.7777777777777778,
              "#fb9f3a"
             ],
             [
              0.8888888888888888,
              "#fdca26"
             ],
             [
              1,
              "#f0f921"
             ]
            ],
            "type": "heatmapgl"
           }
          ],
          "histogram": [
           {
            "marker": {
             "pattern": {
              "fillmode": "overlay",
              "size": 10,
              "solidity": 0.2
             }
            },
            "type": "histogram"
           }
          ],
          "histogram2d": [
           {
            "colorbar": {
             "outlinewidth": 0,
             "ticks": ""
            },
            "colorscale": [
             [
              0,
              "#0d0887"
             ],
             [
              0.1111111111111111,
              "#46039f"
             ],
             [
              0.2222222222222222,
              "#7201a8"
             ],
             [
              0.3333333333333333,
              "#9c179e"
             ],
             [
              0.4444444444444444,
              "#bd3786"
             ],
             [
              0.5555555555555556,
              "#d8576b"
             ],
             [
              0.6666666666666666,
              "#ed7953"
             ],
             [
              0.7777777777777778,
              "#fb9f3a"
             ],
             [
              0.8888888888888888,
              "#fdca26"
             ],
             [
              1,
              "#f0f921"
             ]
            ],
            "type": "histogram2d"
           }
          ],
          "histogram2dcontour": [
           {
            "colorbar": {
             "outlinewidth": 0,
             "ticks": ""
            },
            "colorscale": [
             [
              0,
              "#0d0887"
             ],
             [
              0.1111111111111111,
              "#46039f"
             ],
             [
              0.2222222222222222,
              "#7201a8"
             ],
             [
              0.3333333333333333,
              "#9c179e"
             ],
             [
              0.4444444444444444,
              "#bd3786"
             ],
             [
              0.5555555555555556,
              "#d8576b"
             ],
             [
              0.6666666666666666,
              "#ed7953"
             ],
             [
              0.7777777777777778,
              "#fb9f3a"
             ],
             [
              0.8888888888888888,
              "#fdca26"
             ],
             [
              1,
              "#f0f921"
             ]
            ],
            "type": "histogram2dcontour"
           }
          ],
          "mesh3d": [
           {
            "colorbar": {
             "outlinewidth": 0,
             "ticks": ""
            },
            "type": "mesh3d"
           }
          ],
          "parcoords": [
           {
            "line": {
             "colorbar": {
              "outlinewidth": 0,
              "ticks": ""
             }
            },
            "type": "parcoords"
           }
          ],
          "pie": [
           {
            "automargin": true,
            "type": "pie"
           }
          ],
          "scatter": [
           {
            "fillpattern": {
             "fillmode": "overlay",
             "size": 10,
             "solidity": 0.2
            },
            "type": "scatter"
           }
          ],
          "scatter3d": [
           {
            "line": {
             "colorbar": {
              "outlinewidth": 0,
              "ticks": ""
             }
            },
            "marker": {
             "colorbar": {
              "outlinewidth": 0,
              "ticks": ""
             }
            },
            "type": "scatter3d"
           }
          ],
          "scattercarpet": [
           {
            "marker": {
             "colorbar": {
              "outlinewidth": 0,
              "ticks": ""
             }
            },
            "type": "scattercarpet"
           }
          ],
          "scattergeo": [
           {
            "marker": {
             "colorbar": {
              "outlinewidth": 0,
              "ticks": ""
             }
            },
            "type": "scattergeo"
           }
          ],
          "scattergl": [
           {
            "marker": {
             "colorbar": {
              "outlinewidth": 0,
              "ticks": ""
             }
            },
            "type": "scattergl"
           }
          ],
          "scattermapbox": [
           {
            "marker": {
             "colorbar": {
              "outlinewidth": 0,
              "ticks": ""
             }
            },
            "type": "scattermapbox"
           }
          ],
          "scatterpolar": [
           {
            "marker": {
             "colorbar": {
              "outlinewidth": 0,
              "ticks": ""
             }
            },
            "type": "scatterpolar"
           }
          ],
          "scatterpolargl": [
           {
            "marker": {
             "colorbar": {
              "outlinewidth": 0,
              "ticks": ""
             }
            },
            "type": "scatterpolargl"
           }
          ],
          "scatterternary": [
           {
            "marker": {
             "colorbar": {
              "outlinewidth": 0,
              "ticks": ""
             }
            },
            "type": "scatterternary"
           }
          ],
          "surface": [
           {
            "colorbar": {
             "outlinewidth": 0,
             "ticks": ""
            },
            "colorscale": [
             [
              0,
              "#0d0887"
             ],
             [
              0.1111111111111111,
              "#46039f"
             ],
             [
              0.2222222222222222,
              "#7201a8"
             ],
             [
              0.3333333333333333,
              "#9c179e"
             ],
             [
              0.4444444444444444,
              "#bd3786"
             ],
             [
              0.5555555555555556,
              "#d8576b"
             ],
             [
              0.6666666666666666,
              "#ed7953"
             ],
             [
              0.7777777777777778,
              "#fb9f3a"
             ],
             [
              0.8888888888888888,
              "#fdca26"
             ],
             [
              1,
              "#f0f921"
             ]
            ],
            "type": "surface"
           }
          ],
          "table": [
           {
            "cells": {
             "fill": {
              "color": "#EBF0F8"
             },
             "line": {
              "color": "white"
             }
            },
            "header": {
             "fill": {
              "color": "#C8D4E3"
             },
             "line": {
              "color": "white"
             }
            },
            "type": "table"
           }
          ]
         },
         "layout": {
          "annotationdefaults": {
           "arrowcolor": "#2a3f5f",
           "arrowhead": 0,
           "arrowwidth": 1
          },
          "autotypenumbers": "strict",
          "coloraxis": {
           "colorbar": {
            "outlinewidth": 0,
            "ticks": ""
           }
          },
          "colorscale": {
           "diverging": [
            [
             0,
             "#8e0152"
            ],
            [
             0.1,
             "#c51b7d"
            ],
            [
             0.2,
             "#de77ae"
            ],
            [
             0.3,
             "#f1b6da"
            ],
            [
             0.4,
             "#fde0ef"
            ],
            [
             0.5,
             "#f7f7f7"
            ],
            [
             0.6,
             "#e6f5d0"
            ],
            [
             0.7,
             "#b8e186"
            ],
            [
             0.8,
             "#7fbc41"
            ],
            [
             0.9,
             "#4d9221"
            ],
            [
             1,
             "#276419"
            ]
           ],
           "sequential": [
            [
             0,
             "#0d0887"
            ],
            [
             0.1111111111111111,
             "#46039f"
            ],
            [
             0.2222222222222222,
             "#7201a8"
            ],
            [
             0.3333333333333333,
             "#9c179e"
            ],
            [
             0.4444444444444444,
             "#bd3786"
            ],
            [
             0.5555555555555556,
             "#d8576b"
            ],
            [
             0.6666666666666666,
             "#ed7953"
            ],
            [
             0.7777777777777778,
             "#fb9f3a"
            ],
            [
             0.8888888888888888,
             "#fdca26"
            ],
            [
             1,
             "#f0f921"
            ]
           ],
           "sequentialminus": [
            [
             0,
             "#0d0887"
            ],
            [
             0.1111111111111111,
             "#46039f"
            ],
            [
             0.2222222222222222,
             "#7201a8"
            ],
            [
             0.3333333333333333,
             "#9c179e"
            ],
            [
             0.4444444444444444,
             "#bd3786"
            ],
            [
             0.5555555555555556,
             "#d8576b"
            ],
            [
             0.6666666666666666,
             "#ed7953"
            ],
            [
             0.7777777777777778,
             "#fb9f3a"
            ],
            [
             0.8888888888888888,
             "#fdca26"
            ],
            [
             1,
             "#f0f921"
            ]
           ]
          },
          "colorway": [
           "#636efa",
           "#EF553B",
           "#00cc96",
           "#ab63fa",
           "#FFA15A",
           "#19d3f3",
           "#FF6692",
           "#B6E880",
           "#FF97FF",
           "#FECB52"
          ],
          "font": {
           "color": "#2a3f5f"
          },
          "geo": {
           "bgcolor": "white",
           "lakecolor": "white",
           "landcolor": "#E5ECF6",
           "showlakes": true,
           "showland": true,
           "subunitcolor": "white"
          },
          "hoverlabel": {
           "align": "left"
          },
          "hovermode": "closest",
          "mapbox": {
           "style": "light"
          },
          "paper_bgcolor": "white",
          "plot_bgcolor": "#E5ECF6",
          "polar": {
           "angularaxis": {
            "gridcolor": "white",
            "linecolor": "white",
            "ticks": ""
           },
           "bgcolor": "#E5ECF6",
           "radialaxis": {
            "gridcolor": "white",
            "linecolor": "white",
            "ticks": ""
           }
          },
          "scene": {
           "xaxis": {
            "backgroundcolor": "#E5ECF6",
            "gridcolor": "white",
            "gridwidth": 2,
            "linecolor": "white",
            "showbackground": true,
            "ticks": "",
            "zerolinecolor": "white"
           },
           "yaxis": {
            "backgroundcolor": "#E5ECF6",
            "gridcolor": "white",
            "gridwidth": 2,
            "linecolor": "white",
            "showbackground": true,
            "ticks": "",
            "zerolinecolor": "white"
           },
           "zaxis": {
            "backgroundcolor": "#E5ECF6",
            "gridcolor": "white",
            "gridwidth": 2,
            "linecolor": "white",
            "showbackground": true,
            "ticks": "",
            "zerolinecolor": "white"
           }
          },
          "shapedefaults": {
           "line": {
            "color": "#2a3f5f"
           }
          },
          "ternary": {
           "aaxis": {
            "gridcolor": "white",
            "linecolor": "white",
            "ticks": ""
           },
           "baxis": {
            "gridcolor": "white",
            "linecolor": "white",
            "ticks": ""
           },
           "bgcolor": "#E5ECF6",
           "caxis": {
            "gridcolor": "white",
            "linecolor": "white",
            "ticks": ""
           }
          },
          "title": {
           "x": 0.05
          },
          "xaxis": {
           "automargin": true,
           "gridcolor": "white",
           "linecolor": "white",
           "ticks": "",
           "title": {
            "standoff": 15
           },
           "zerolinecolor": "white",
           "zerolinewidth": 2
          },
          "yaxis": {
           "automargin": true,
           "gridcolor": "white",
           "linecolor": "white",
           "ticks": "",
           "title": {
            "standoff": 15
           },
           "zerolinecolor": "white",
           "zerolinewidth": 2
          }
         }
        },
        "title": {
         "text": "KDA and KD with Baseline"
        },
        "xaxis": {
         "title": {
          "text": "Index"
         }
        },
        "yaxis": {
         "title": {
          "text": "Value"
         }
        }
       }
      },
      "text/html": [
       "<div>                            <div id=\"1d4de9e0-2547-4d24-9810-fbcd8aa57fe5\" class=\"plotly-graph-div\" style=\"height:525px; width:100%;\"></div>            <script type=\"text/javascript\">                require([\"plotly\"], function(Plotly) {                    window.PLOTLYENV=window.PLOTLYENV || {};                                    if (document.getElementById(\"1d4de9e0-2547-4d24-9810-fbcd8aa57fe5\")) {                    Plotly.newPlot(                        \"1d4de9e0-2547-4d24-9810-fbcd8aa57fe5\",                        [{\"hoverinfo\":\"text\",\"mode\":\"lines+markers\",\"name\":\"Original KDA\",\"text\":[\"Player: KEZNIT<br>KDA: 1.42\",\"Player: WHZ<br>KDA: 1.39\",\"Player: DEMON1<br>KDA: 1.65\",\"Player: ASPAS<br>KDA: 1.48\",\"Player: JINGGG<br>KDA: 1.35\",\"Player: ARDIIS<br>KDA: 1.36\",\"Player: ALFAJER<br>KDA: 1.60\",\"Player: AAAAY<br>KDA: 1.61\",\"Player: SAYAPLAYER<br>KDA: 1.27\",\"Player: JAWGEMO<br>KDA: 1.58\",\"Player: BUZZ<br>KDA: 1.27\",\"Player: LESS<br>KDA: 1.50\",\"Player: FIT1NHO<br>KDA: 1.26\",\"Player: ZMJJKK<br>KDA: 1.28\",\"Player: DEP<br>KDA: 1.16\",\"Player: SAYF<br>KDA: 1.39\",\"Player: VICTOR<br>KDA: 1.32\",\"Player: CNED<br>KDA: 1.45\",\"Player: DERKE<br>KDA: 1.38\",\"Player: CAUANZIN<br>KDA: 1.71\",\"Player: CLOUD<br>KDA: 1.66\",\"Player: MUNCHKIN<br>KDA: 1.22\",\"Player: NATS<br>KDA: 1.31\",\"Player: SOMETHING<br>KDA: 1.39\",\"Player: MRFALIN<br>KDA: 1.63\",\"Player: LYSOAR<br>KDA: 1.17\",\"Player: YOSEMITE<br>KDA: 1.42\",\"Player: YUICAW<br>KDA: 1.05\",\"Player: LEO<br>KDA: 2.17\",\"Player: F0RSAKEN<br>KDA: 1.47\",\"Player: HOODY<br>KDA: 1.65\",\"Player: SMOGGY<br>KDA: 1.27\",\"Player: ZEST<br>KDA: 1.43\",\"Player: NOBODY<br>KDA: 1.37\",\"Player: ZYPPAN<br>KDA: 1.26\",\"Player: CHICHOO<br>KDA: 1.50\",\"Player: ATA KAPTAN<br>KDA: 1.63\",\"Player: C0M<br>KDA: 1.61\",\"Player: ETHAN<br>KDA: 1.87\",\"Player: SUYGETSU<br>KDA: 1.47\",\"Player: QRAXS<br>KDA: 1.52\",\"Player: D4V41<br>KDA: 1.74\",\"Player: MOJJ<br>KDA: 1.32\",\"Player: QW1<br>KDA: 1.03\",\"Player: MAKO<br>KDA: 1.73\",\"Player: KNIGHT<br>KDA: 1.35\",\"Player: BIANK<br>KDA: 1.37\",\"Player: BOOSTIO<br>KDA: 1.22\",\"Player: XETA<br>KDA: 1.33\",\"Player: NUKKYE<br>KDA: 1.14\",\"Player: SAADHAK<br>KDA: 1.58\",\"Player: CRASHIES<br>KDA: 1.50\",\"Player: DAVEEYS<br>KDA: 1.40\",\"Player: BOASTER<br>KDA: 1.52\",\"Player: ANGE1<br>KDA: 1.29\",\"Player: BAN<br>KDA: 1.25\",\"Player: STAX<br>KDA: 1.42\",\"Player: RHYME<br>KDA: 1.60\",\"Player: S0M<br>KDA: 1.71\",\"Player: CHRONICLE<br>KDA: 1.54\",\"Player: FNS<br>KDA: 1.29\",\"Player: HAODONG<br>KDA: 1.49\",\"Player: SHAO<br>KDA: 1.51\",\"Player: MINDFREAK <br>KDA: 1.57\",\"Player: TUYZ<br>KDA: 1.73\",\"Player: RB<br>KDA: 1.08\",\"Player: REDGAR<br>KDA: 1.14\",\"Player: JAMPPI<br>KDA: 0.93\",\"Player: KLAUS<br>KDA: 1.07\",\"Player: BERLIN<br>KDA: 1.02\",\"Player: LAZ<br>KDA: 0.98\",\"Player: CARPE<br>KDA: 0.99\",\"Player: NAGZ<br>KDA: 1.20\",\"Player: TENNN<br>KDA: 0.80\",\"Player: MELSER<br>KDA: 0.98\",\"Player: RIN<br>KDA: 1.21\",\"Player: TZH<br>KDA: 1.10\",\"Player: SOULCAS<br>KDA: 1.18\",\"Player: SUGARZ3RO<br>KDA: 1.06\",\"Player: CROW<br>KDA: 0.85\"],\"x\":[0,1,2,3,4,5,6,7,8,9,10,11,12,13,14,15,16,17,18,19,20,21,22,23,24,25,26,27,28,29,30,31,32,33,34,35,36,37,38,39,40,41,42,43,44,45,46,47,48,49,50,51,52,53,54,55,56,57,58,59,60,61,62,63,64,65,66,67,68,69,70,71,72,73,74,75,76,77,78,79],\"y\":[1.42,1.39,1.65,1.48,1.35,1.36,1.6,1.61,1.27,1.58,1.27,1.5,1.26,1.28,1.16,1.39,1.32,1.45,1.38,1.71,1.66,1.22,1.31,1.39,1.63,1.17,1.42,1.05,2.17,1.47,1.65,1.27,1.43,1.37,1.26,1.5,1.63,1.61,1.87,1.47,1.52,1.74,1.32,1.03,1.73,1.35,1.37,1.22,1.33,1.14,1.58,1.5,1.4,1.52,1.29,1.25,1.42,1.6,1.71,1.54,1.29,1.49,1.51,1.57,1.73,1.08,1.14,0.93,1.07,1.02,0.98,0.99,1.2,0.8,0.98,1.21,1.1,1.18,1.06,0.85],\"type\":\"scatter\"},{\"hoverinfo\":\"text\",\"mode\":\"lines+markers\",\"name\":\"Original KD\",\"text\":[\"Player: KEZNIT<br>KD: 1.12\",\"Player: WHZ<br>KD: 1.17\",\"Player: DEMON1<br>KD: 1.39\",\"Player: ASPAS<br>KD: 1.25\",\"Player: JINGGG<br>KD: 1.02\",\"Player: ARDIIS<br>KD: 1.12\",\"Player: ALFAJER<br>KD: 1.38\",\"Player: AAAAY<br>KD: 1.33\",\"Player: SAYAPLAYER<br>KD: 1.11\",\"Player: JAWGEMO<br>KD: 1.11\",\"Player: BUZZ<br>KD: 1.02\",\"Player: LESS<br>KD: 1.20\",\"Player: FIT1NHO<br>KD: 1.02\",\"Player: ZMJJKK<br>KD: 1.04\",\"Player: DEP<br>KD: 1.07\",\"Player: SAYF<br>KD: 1.01\",\"Player: VICTOR<br>KD: 1.07\",\"Player: CNED<br>KD: 1.20\",\"Player: DERKE<br>KD: 1.14\",\"Player: CAUANZIN<br>KD: 1.12\",\"Player: CLOUD<br>KD: 1.10\",\"Player: MUNCHKIN<br>KD: 0.92\",\"Player: NATS<br>KD: 1.09\",\"Player: SOMETHING<br>KD: 1.09\",\"Player: MRFALIN<br>KD: 1.11\",\"Player: LYSOAR<br>KD: 0.95\",\"Player: YOSEMITE<br>KD: 1.03\",\"Player: YUICAW<br>KD: 0.86\",\"Player: LEO<br>KD: 1.36\",\"Player: F0RSAKEN<br>KD: 1.00\",\"Player: HOODY<br>KD: 1.00\",\"Player: SMOGGY<br>KD: 0.98\",\"Player: ZEST<br>KD: 0.98\",\"Player: NOBODY<br>KD: 0.93\",\"Player: ZYPPAN<br>KD: 0.88\",\"Player: CHICHOO<br>KD: 1.03\",\"Player: ATA KAPTAN<br>KD: 0.88\",\"Player: C0M<br>KD: 1.12\",\"Player: ETHAN<br>KD: 1.00\",\"Player: SUYGETSU<br>KD: 1.20\",\"Player: QRAXS<br>KD: 0.93\",\"Player: D4V41<br>KD: 1.07\",\"Player: MOJJ<br>KD: 0.92\",\"Player: QW1<br>KD: 0.92\",\"Player: MAKO<br>KD: 0.96\",\"Player: KNIGHT<br>KD: 0.91\",\"Player: BIANK<br>KD: 0.89\",\"Player: BOOSTIO<br>KD: 0.86\",\"Player: XETA<br>KD: 0.94\",\"Player: NUKKYE<br>KD: 0.88\",\"Player: SAADHAK<br>KD: 0.87\",\"Player: CRASHIES<br>KD: 1.01\",\"Player: DAVEEYS<br>KD: 1.11\",\"Player: BOASTER<br>KD: 0.89\",\"Player: ANGE1<br>KD: 0.74\",\"Player: BAN<br>KD: 0.81\",\"Player: STAX<br>KD: 0.91\",\"Player: RHYME<br>KD: 0.83\",\"Player: S0M<br>KD: 1.07\",\"Player: CHRONICLE<br>KD: 0.88\",\"Player: FNS<br>KD: 0.72\",\"Player: HAODONG<br>KD: 0.83\",\"Player: SHAO<br>KD: 0.97\",\"Player: MINDFREAK <br>KD: 0.97\",\"Player: TUYZ<br>KD: 0.95\",\"Player: RB<br>KD: 0.85\",\"Player: REDGAR<br>KD: 0.69\",\"Player: JAMPPI<br>KD: 0.84\",\"Player: KLAUS<br>KD: 0.71\",\"Player: BERLIN<br>KD: 0.59\",\"Player: LAZ<br>KD: 0.80\",\"Player: CARPE<br>KD: 0.67\",\"Player: NAGZ<br>KD: 0.71\",\"Player: TENNN<br>KD: 0.66\",\"Player: MELSER<br>KD: 0.63\",\"Player: RIN<br>KD: 0.73\",\"Player: TZH<br>KD: 0.71\",\"Player: SOULCAS<br>KD: 0.75\",\"Player: SUGARZ3RO<br>KD: 0.65\",\"Player: CROW<br>KD: 0.47\"],\"x\":[0,1,2,3,4,5,6,7,8,9,10,11,12,13,14,15,16,17,18,19,20,21,22,23,24,25,26,27,28,29,30,31,32,33,34,35,36,37,38,39,40,41,42,43,44,45,46,47,48,49,50,51,52,53,54,55,56,57,58,59,60,61,62,63,64,65,66,67,68,69,70,71,72,73,74,75,76,77,78,79],\"y\":[1.12,1.17,1.39,1.25,1.02,1.12,1.38,1.33,1.11,1.11,1.02,1.2,1.02,1.04,1.07,1.01,1.07,1.2,1.14,1.12,1.1,0.92,1.09,1.09,1.11,0.95,1.03,0.86,1.36,1.0,1.0,0.98,0.98,0.93,0.88,1.03,0.88,1.12,1.0,1.2,0.93,1.07,0.92,0.92,0.96,0.91,0.89,0.86,0.94,0.88,0.87,1.01,1.11,0.89,0.74,0.81,0.91,0.83,1.07,0.88,0.72,0.83,0.97,0.97,0.95,0.85,0.69,0.84,0.71,0.59,0.8,0.67,0.71,0.66,0.63,0.73,0.71,0.75,0.65,0.47],\"type\":\"scatter\"},{\"mode\":\"lines\",\"name\":\"Baseline KDA\",\"x\":[0,1,2,3,4,5,6,7,8,9,10,11,12,13,14,15,16,17,18,19,20,21,22,23,24,25,26,27,28,29,30,31,32,33,34,35,36,37,38,39,40,41,42,43,44,45,46,47,48,49,50,51,52,53,54,55,56,57,58,59,60,61,62,63,64,65,66,67,68,69,70,71,72,73,74,75,76,77,78,79],\"y\":[1.4094325732234474,1.3815421177399303,1.3551909075170492,1.3303369687658146,1.3069383276972368,1.2849530105223264,1.2643390434520936,1.2450544526975487,1.2270572644697022,1.2103055049795648,1.1947572004381466,1.180370377056458,1.1671030610455095,1.1549132786163117,1.1437590559798747,1.133598419347209,1.1243893949293249,1.116090008937233,1.1086582875819437,1.1020522570744673,1.0962299436258143,1.091149373446995,1.08676857274902,1.0830455677428992,1.0799383846396438,1.0774050496502636,1.0754035889857692,1.0738920288571707,1.0728283954754794,1.0721707150517048,1.0718770137968576,1.071905317921948,1.072213653637987,1.0727600471559844,1.0735025246869512,1.074399112441897,1.0754078366318327,1.076486723467769,1.0775937991607156,1.0786870899216834,1.0797246219616827,1.0806644214917238,1.0814645147228177,1.082082927865974,1.082477687132203,1.0826068187325162,1.0824283488779227,1.0819003037794341,1.08098070964806,1.079627592694811,1.0777989791306977,1.0754528951667301,1.0725473670139187,1.0690404208832747,1.0648900829858072,1.060054379532528,1.0544913367344466,1.048158980802573,1.041015337947919,1.0330184343814934,1.0241262963143083,1.0142969499573729,1.0034884215216975,0.9916587372182932,0.97876592325817,0.9647680058523393,0.9496230112118103,0.9332889655475933,0.9157238950706996,0.8968858259921384,0.8767327845229225,0.8552227968740589,0.8323138892565611,0.8079640878814371,0.7821314189597002,0.7547739087023573,0.7258495833204204,0.695316469024901,0.6631325920268083,0.629255978537153],\"type\":\"scatter\"},{\"mode\":\"lines\",\"name\":\"Baseline KD\",\"x\":[0,1,2,3,4,5,6,7,8,9,10,11,12,13,14,15,16,17,18,19,20,21,22,23,24,25,26,27,28,29,30,31,32,33,34,35,36,37,38,39,40,41,42,43,44,45,46,47,48,49,50,51,52,53,54,55,56,57,58,59,60,61,62,63,64,65,66,67,68,69,70,71,72,73,74,75,76,77,78,79],\"y\":[1.0674218121424346,1.0573186598854905,1.0475957787506052,1.0382407062775525,1.029240980006107,1.0205841374760427,1.0122577162271336,1.0042492537991539,0.9965462877318776,0.9891363555650792,0.9820069948385326,0.975145743092012,0.9685401378652916,0.9621777166981453,0.9560460171303475,0.9501325767016724,0.944424932951894,0.9389106234207865,0.9335771856481239,0.9284121571736803,0.9234030755372302,0.9185374782785475,0.9138029029374064,0.9091868870535809,0.9046769681668454,0.9002606838169738,0.8959255715437404,0.8916591688869194,0.8874490133862847,0.8832826425816106,0.8791475940126713,0.8750314052192408,0.8709216137410933,0.8668057571180031,0.8626713728897442,0.8585059985960906,0.8542971717768166,0.8500324299716965,0.8456993107205042,0.8412853515630139,0.8367780900389997,0.8321650636882358,0.8274338100504965,0.8225718666655557,0.8175667710731878,0.8124060608131666,0.8070772734252665,0.8015679464492615,0.7958656174249259,0.7899578238920337,0.7838321033903591,0.7774759934596763,0.7708770316397595,0.7640227554703827,0.7569007024913199,0.7494984102423456,0.7418034162632335,0.7338032580937583,0.7254854732736937,0.7168375993428142,0.7078471738408936,0.6985017343077062,0.6887888182830262,0.6786959633066276,0.6682107069182845,0.6573205866577713,0.646013140064862,0.6342759046793308,0.6220964180409517,0.609462217689499,0.5963608411647467,0.582779826006469,0.5687067097544403,0.5541290299484344,0.5390343241282255,0.5234101298335876,0.5072439846042954,0.4905234259801222,0.4732359915008436,0.4553692187062318],\"type\":\"scatter\"}],                        {\"template\":{\"data\":{\"histogram2dcontour\":[{\"type\":\"histogram2dcontour\",\"colorbar\":{\"outlinewidth\":0,\"ticks\":\"\"},\"colorscale\":[[0.0,\"#0d0887\"],[0.1111111111111111,\"#46039f\"],[0.2222222222222222,\"#7201a8\"],[0.3333333333333333,\"#9c179e\"],[0.4444444444444444,\"#bd3786\"],[0.5555555555555556,\"#d8576b\"],[0.6666666666666666,\"#ed7953\"],[0.7777777777777778,\"#fb9f3a\"],[0.8888888888888888,\"#fdca26\"],[1.0,\"#f0f921\"]]}],\"choropleth\":[{\"type\":\"choropleth\",\"colorbar\":{\"outlinewidth\":0,\"ticks\":\"\"}}],\"histogram2d\":[{\"type\":\"histogram2d\",\"colorbar\":{\"outlinewidth\":0,\"ticks\":\"\"},\"colorscale\":[[0.0,\"#0d0887\"],[0.1111111111111111,\"#46039f\"],[0.2222222222222222,\"#7201a8\"],[0.3333333333333333,\"#9c179e\"],[0.4444444444444444,\"#bd3786\"],[0.5555555555555556,\"#d8576b\"],[0.6666666666666666,\"#ed7953\"],[0.7777777777777778,\"#fb9f3a\"],[0.8888888888888888,\"#fdca26\"],[1.0,\"#f0f921\"]]}],\"heatmap\":[{\"type\":\"heatmap\",\"colorbar\":{\"outlinewidth\":0,\"ticks\":\"\"},\"colorscale\":[[0.0,\"#0d0887\"],[0.1111111111111111,\"#46039f\"],[0.2222222222222222,\"#7201a8\"],[0.3333333333333333,\"#9c179e\"],[0.4444444444444444,\"#bd3786\"],[0.5555555555555556,\"#d8576b\"],[0.6666666666666666,\"#ed7953\"],[0.7777777777777778,\"#fb9f3a\"],[0.8888888888888888,\"#fdca26\"],[1.0,\"#f0f921\"]]}],\"heatmapgl\":[{\"type\":\"heatmapgl\",\"colorbar\":{\"outlinewidth\":0,\"ticks\":\"\"},\"colorscale\":[[0.0,\"#0d0887\"],[0.1111111111111111,\"#46039f\"],[0.2222222222222222,\"#7201a8\"],[0.3333333333333333,\"#9c179e\"],[0.4444444444444444,\"#bd3786\"],[0.5555555555555556,\"#d8576b\"],[0.6666666666666666,\"#ed7953\"],[0.7777777777777778,\"#fb9f3a\"],[0.8888888888888888,\"#fdca26\"],[1.0,\"#f0f921\"]]}],\"contourcarpet\":[{\"type\":\"contourcarpet\",\"colorbar\":{\"outlinewidth\":0,\"ticks\":\"\"}}],\"contour\":[{\"type\":\"contour\",\"colorbar\":{\"outlinewidth\":0,\"ticks\":\"\"},\"colorscale\":[[0.0,\"#0d0887\"],[0.1111111111111111,\"#46039f\"],[0.2222222222222222,\"#7201a8\"],[0.3333333333333333,\"#9c179e\"],[0.4444444444444444,\"#bd3786\"],[0.5555555555555556,\"#d8576b\"],[0.6666666666666666,\"#ed7953\"],[0.7777777777777778,\"#fb9f3a\"],[0.8888888888888888,\"#fdca26\"],[1.0,\"#f0f921\"]]}],\"surface\":[{\"type\":\"surface\",\"colorbar\":{\"outlinewidth\":0,\"ticks\":\"\"},\"colorscale\":[[0.0,\"#0d0887\"],[0.1111111111111111,\"#46039f\"],[0.2222222222222222,\"#7201a8\"],[0.3333333333333333,\"#9c179e\"],[0.4444444444444444,\"#bd3786\"],[0.5555555555555556,\"#d8576b\"],[0.6666666666666666,\"#ed7953\"],[0.7777777777777778,\"#fb9f3a\"],[0.8888888888888888,\"#fdca26\"],[1.0,\"#f0f921\"]]}],\"mesh3d\":[{\"type\":\"mesh3d\",\"colorbar\":{\"outlinewidth\":0,\"ticks\":\"\"}}],\"scatter\":[{\"fillpattern\":{\"fillmode\":\"overlay\",\"size\":10,\"solidity\":0.2},\"type\":\"scatter\"}],\"parcoords\":[{\"type\":\"parcoords\",\"line\":{\"colorbar\":{\"outlinewidth\":0,\"ticks\":\"\"}}}],\"scatterpolargl\":[{\"type\":\"scatterpolargl\",\"marker\":{\"colorbar\":{\"outlinewidth\":0,\"ticks\":\"\"}}}],\"bar\":[{\"error_x\":{\"color\":\"#2a3f5f\"},\"error_y\":{\"color\":\"#2a3f5f\"},\"marker\":{\"line\":{\"color\":\"#E5ECF6\",\"width\":0.5},\"pattern\":{\"fillmode\":\"overlay\",\"size\":10,\"solidity\":0.2}},\"type\":\"bar\"}],\"scattergeo\":[{\"type\":\"scattergeo\",\"marker\":{\"colorbar\":{\"outlinewidth\":0,\"ticks\":\"\"}}}],\"scatterpolar\":[{\"type\":\"scatterpolar\",\"marker\":{\"colorbar\":{\"outlinewidth\":0,\"ticks\":\"\"}}}],\"histogram\":[{\"marker\":{\"pattern\":{\"fillmode\":\"overlay\",\"size\":10,\"solidity\":0.2}},\"type\":\"histogram\"}],\"scattergl\":[{\"type\":\"scattergl\",\"marker\":{\"colorbar\":{\"outlinewidth\":0,\"ticks\":\"\"}}}],\"scatter3d\":[{\"type\":\"scatter3d\",\"line\":{\"colorbar\":{\"outlinewidth\":0,\"ticks\":\"\"}},\"marker\":{\"colorbar\":{\"outlinewidth\":0,\"ticks\":\"\"}}}],\"scattermapbox\":[{\"type\":\"scattermapbox\",\"marker\":{\"colorbar\":{\"outlinewidth\":0,\"ticks\":\"\"}}}],\"scatterternary\":[{\"type\":\"scatterternary\",\"marker\":{\"colorbar\":{\"outlinewidth\":0,\"ticks\":\"\"}}}],\"scattercarpet\":[{\"type\":\"scattercarpet\",\"marker\":{\"colorbar\":{\"outlinewidth\":0,\"ticks\":\"\"}}}],\"carpet\":[{\"aaxis\":{\"endlinecolor\":\"#2a3f5f\",\"gridcolor\":\"white\",\"linecolor\":\"white\",\"minorgridcolor\":\"white\",\"startlinecolor\":\"#2a3f5f\"},\"baxis\":{\"endlinecolor\":\"#2a3f5f\",\"gridcolor\":\"white\",\"linecolor\":\"white\",\"minorgridcolor\":\"white\",\"startlinecolor\":\"#2a3f5f\"},\"type\":\"carpet\"}],\"table\":[{\"cells\":{\"fill\":{\"color\":\"#EBF0F8\"},\"line\":{\"color\":\"white\"}},\"header\":{\"fill\":{\"color\":\"#C8D4E3\"},\"line\":{\"color\":\"white\"}},\"type\":\"table\"}],\"barpolar\":[{\"marker\":{\"line\":{\"color\":\"#E5ECF6\",\"width\":0.5},\"pattern\":{\"fillmode\":\"overlay\",\"size\":10,\"solidity\":0.2}},\"type\":\"barpolar\"}],\"pie\":[{\"automargin\":true,\"type\":\"pie\"}]},\"layout\":{\"autotypenumbers\":\"strict\",\"colorway\":[\"#636efa\",\"#EF553B\",\"#00cc96\",\"#ab63fa\",\"#FFA15A\",\"#19d3f3\",\"#FF6692\",\"#B6E880\",\"#FF97FF\",\"#FECB52\"],\"font\":{\"color\":\"#2a3f5f\"},\"hovermode\":\"closest\",\"hoverlabel\":{\"align\":\"left\"},\"paper_bgcolor\":\"white\",\"plot_bgcolor\":\"#E5ECF6\",\"polar\":{\"bgcolor\":\"#E5ECF6\",\"angularaxis\":{\"gridcolor\":\"white\",\"linecolor\":\"white\",\"ticks\":\"\"},\"radialaxis\":{\"gridcolor\":\"white\",\"linecolor\":\"white\",\"ticks\":\"\"}},\"ternary\":{\"bgcolor\":\"#E5ECF6\",\"aaxis\":{\"gridcolor\":\"white\",\"linecolor\":\"white\",\"ticks\":\"\"},\"baxis\":{\"gridcolor\":\"white\",\"linecolor\":\"white\",\"ticks\":\"\"},\"caxis\":{\"gridcolor\":\"white\",\"linecolor\":\"white\",\"ticks\":\"\"}},\"coloraxis\":{\"colorbar\":{\"outlinewidth\":0,\"ticks\":\"\"}},\"colorscale\":{\"sequential\":[[0.0,\"#0d0887\"],[0.1111111111111111,\"#46039f\"],[0.2222222222222222,\"#7201a8\"],[0.3333333333333333,\"#9c179e\"],[0.4444444444444444,\"#bd3786\"],[0.5555555555555556,\"#d8576b\"],[0.6666666666666666,\"#ed7953\"],[0.7777777777777778,\"#fb9f3a\"],[0.8888888888888888,\"#fdca26\"],[1.0,\"#f0f921\"]],\"sequentialminus\":[[0.0,\"#0d0887\"],[0.1111111111111111,\"#46039f\"],[0.2222222222222222,\"#7201a8\"],[0.3333333333333333,\"#9c179e\"],[0.4444444444444444,\"#bd3786\"],[0.5555555555555556,\"#d8576b\"],[0.6666666666666666,\"#ed7953\"],[0.7777777777777778,\"#fb9f3a\"],[0.8888888888888888,\"#fdca26\"],[1.0,\"#f0f921\"]],\"diverging\":[[0,\"#8e0152\"],[0.1,\"#c51b7d\"],[0.2,\"#de77ae\"],[0.3,\"#f1b6da\"],[0.4,\"#fde0ef\"],[0.5,\"#f7f7f7\"],[0.6,\"#e6f5d0\"],[0.7,\"#b8e186\"],[0.8,\"#7fbc41\"],[0.9,\"#4d9221\"],[1,\"#276419\"]]},\"xaxis\":{\"gridcolor\":\"white\",\"linecolor\":\"white\",\"ticks\":\"\",\"title\":{\"standoff\":15},\"zerolinecolor\":\"white\",\"automargin\":true,\"zerolinewidth\":2},\"yaxis\":{\"gridcolor\":\"white\",\"linecolor\":\"white\",\"ticks\":\"\",\"title\":{\"standoff\":15},\"zerolinecolor\":\"white\",\"automargin\":true,\"zerolinewidth\":2},\"scene\":{\"xaxis\":{\"backgroundcolor\":\"#E5ECF6\",\"gridcolor\":\"white\",\"linecolor\":\"white\",\"showbackground\":true,\"ticks\":\"\",\"zerolinecolor\":\"white\",\"gridwidth\":2},\"yaxis\":{\"backgroundcolor\":\"#E5ECF6\",\"gridcolor\":\"white\",\"linecolor\":\"white\",\"showbackground\":true,\"ticks\":\"\",\"zerolinecolor\":\"white\",\"gridwidth\":2},\"zaxis\":{\"backgroundcolor\":\"#E5ECF6\",\"gridcolor\":\"white\",\"linecolor\":\"white\",\"showbackground\":true,\"ticks\":\"\",\"zerolinecolor\":\"white\",\"gridwidth\":2}},\"shapedefaults\":{\"line\":{\"color\":\"#2a3f5f\"}},\"annotationdefaults\":{\"arrowcolor\":\"#2a3f5f\",\"arrowhead\":0,\"arrowwidth\":1},\"geo\":{\"bgcolor\":\"white\",\"landcolor\":\"#E5ECF6\",\"subunitcolor\":\"white\",\"showland\":true,\"showlakes\":true,\"lakecolor\":\"white\"},\"title\":{\"x\":0.05},\"mapbox\":{\"style\":\"light\"}}},\"title\":{\"text\":\"KDA and KD with Baseline\"},\"xaxis\":{\"title\":{\"text\":\"Index\"}},\"yaxis\":{\"title\":{\"text\":\"Value\"}}},                        {\"responsive\": true}                    ).then(function(){\n",
       "                            \n",
       "var gd = document.getElementById('1d4de9e0-2547-4d24-9810-fbcd8aa57fe5');\n",
       "var x = new MutationObserver(function (mutations, observer) {{\n",
       "        var display = window.getComputedStyle(gd).display;\n",
       "        if (!display || display === 'none') {{\n",
       "            console.log([gd, 'removed!']);\n",
       "            Plotly.purge(gd);\n",
       "            observer.disconnect();\n",
       "        }}\n",
       "}});\n",
       "\n",
       "// Listen for the removal of the full notebook cells\n",
       "var notebookContainer = gd.closest('#notebook-container');\n",
       "if (notebookContainer) {{\n",
       "    x.observe(notebookContainer, {childList: true});\n",
       "}}\n",
       "\n",
       "// Listen for the clearing of the current output cell\n",
       "var outputEl = gd.closest('.output');\n",
       "if (outputEl) {{\n",
       "    x.observe(outputEl, {childList: true});\n",
       "}}\n",
       "\n",
       "                        })                };                });            </script>        </div>"
      ]
     },
     "metadata": {},
     "output_type": "display_data"
    }
   ],
   "source": [
    "# import library\n",
    "import peakutils\n",
    "\n",
    "# Extract columns from the dataset\n",
    "playerkda = df['KDA']\n",
    "players = df['Player']\n",
    "plaerkd = df['KD']\n",
    "\n",
    "# Convert 'KDA' and 'KD' to numpy arrays\n",
    "playerkda = np.asarray(df['KDA'])\n",
    "playerkd = np.asarray(df['KD'])\n",
    "\n",
    "# Calculate the baseline for 'KDA' and 'KD'\n",
    "baseline_kda = peakutils.baseline(playerkda)\n",
    "baseline_kd = peakutils.baseline(playerkd)\n",
    "\n",
    "# Create a scatter plot for the original 'KDA' values\n",
    "trace1 = go.Scatter(\n",
    "    x=np.arange(len(playerkda)),\n",
    "    y=playerkda,\n",
    "    mode='lines+markers',\n",
    "    name='Original KDA',\n",
    "    text=['Player: {}<br>KDA: {:.2f}'.format(player, kda) for player, kda in zip(players, playerkda)],\n",
    "    hoverinfo='text'\n",
    ")\n",
    "\n",
    "# Create a scatter plot for the original 'KD' values\n",
    "trace2 = go.Scatter(\n",
    "    x=np.arange(len(playerkd)),\n",
    "    y=playerkd,\n",
    "    mode='lines+markers',\n",
    "    name='Original KD',\n",
    "    text=['Player: {}<br>KD: {:.2f}'.format(player, kd) for player, kd in zip(players, playerkd)],\n",
    "    hoverinfo='text'\n",
    ")\n",
    "\n",
    "# Create a scatter plot for the baseline of 'KDA'\n",
    "trace3 = go.Scatter(\n",
    "    x=np.arange(len(baseline_kda)),\n",
    "    y=baseline_kda,\n",
    "    mode='lines',\n",
    "    name='Baseline KDA'\n",
    ")\n",
    "\n",
    "# Create a scatter plot for the baseline of 'KD'\n",
    "trace4 = go.Scatter(\n",
    "    x=np.arange(len(baseline_kd)),\n",
    "    y=baseline_kd,\n",
    "    mode='lines',\n",
    "    name='Baseline KD'\n",
    ")\n",
    "\n",
    "# Create the figure\n",
    "fig = go.Figure(data=[trace1, trace2, trace3, trace4])\n",
    "\n",
    "# Set the layout\n",
    "fig.update_layout(\n",
    "    title='KDA and KD with Baseline',\n",
    "    xaxis_title='Index',\n",
    "    yaxis_title='Value'\n",
    ")\n",
    "\n",
    "# Show the figure\n",
    "fig.show()"
   ]
  },
  {
   "cell_type": "markdown",
   "id": "ef1a2205",
   "metadata": {},
   "source": [
    "## Bar Plot - Top Assist Player aka potential Supporter"
   ]
  },
  {
   "cell_type": "code",
   "execution_count": 38,
   "id": "d2186279",
   "metadata": {},
   "outputs": [
    {
     "data": {
      "image/png": "[encoded data removed]",
      "text/plain": [
       "<Figure size 1000x600 with 1 Axes>"
      ]
     },
     "metadata": {},
     "output_type": "display_data"
    }
   ],
   "source": [
    "# Extract columns from the dataset but with 5 players\n",
    "top_5_assist = df.nlargest(5, 'A')\n",
    "\n",
    "# Plot a bar chart\n",
    "plt.figure(figsize=(10, 6))\n",
    "\n",
    "# Plot the bars and annotate with assist values\n",
    "bars = plt.bar(top_5_assist['Player'], top_5_assist['A'], color='skyblue')\n",
    "\n",
    "# Add assist values as annotations on the bars\n",
    "for bar in bars:\n",
    "    yval = bar.get_height()\n",
    "    plt.text(bar.get_x() + bar.get_width()/2, yval, round(yval, 2), ha='center', va='bottom')\n",
    "\n",
    "plt.xlabel('Player')\n",
    "plt.ylabel('Assist')\n",
    "plt.title('Top 5 Players with Highest Assist')\n",
    "plt.xticks(rotation=45)  # Rotate x-axis labels for better visibility\n",
    "plt.tight_layout()\n",
    "\n",
    "# Show the plot\n",
    "plt.show()"
   ]
  },
  {
   "cell_type": "markdown",
   "id": "d2d9f269",
   "metadata": {},
   "source": [
    "## Pie Chart - Top Performance Player aka potential Duelist"
   ]
  },
  {
   "cell_type": "code",
   "execution_count": 39,
   "id": "5522047e",
   "metadata": {},
   "outputs": [
    {
     "data": {
      "image/png": "[encoded data removed]",
      "text/plain": [
       "<Figure size 1000x600 with 1 Axes>"
      ]
     },
     "metadata": {},
     "output_type": "display_data"
    }
   ],
   "source": [
    "# Extract columns from the dataset but with 10 players\n",
    "top_10_kill = df.nlargest(10, 'K')\n",
    "\n",
    "# Data for the pie chart\n",
    "labels = top_10_kill['Player']\n",
    "sizes = top_10_kill['K']\n",
    "colors = ['#8A3324', 'orange', 'yellow', 'green', 'skyblue']\n",
    "\n",
    "# Plot a pie chart\n",
    "plt.figure(figsize=(10, 6))\n",
    "plt.pie(sizes, labels=labels, colors=colors, autopct='%1.1f%%', startangle=140)\n",
    "plt.axis('equal')  # Equal aspect ratio ensures that pie is drawn as a circle.\n",
    "plt.title('Kill distribution for Top 10 Players')\n",
    "\n",
    "# Show the plot\n",
    "plt.show()"
   ]
  },
  {
   "cell_type": "markdown",
   "id": "282aa405",
   "metadata": {},
   "source": [
    "# Data Outliers"
   ]
  },
  {
   "cell_type": "markdown",
   "id": "ab91ec2a",
   "metadata": {},
   "source": [
    "## Outliers for KDA"
   ]
  },
  {
   "cell_type": "code",
   "execution_count": 40,
   "id": "8ffd5efa",
   "metadata": {},
   "outputs": [
    {
     "name": "stdout",
     "output_type": "stream",
     "text": [
      "Outliers in KDA:\n",
      "28    2.17\n",
      "Name: KDA, dtype: float64\n"
     ]
    }
   ],
   "source": [
    "# Extract columns from the dataset\n",
    "kda_column = df['KDA']\n",
    "\n",
    "# Calculate the first quartile (Q1)\n",
    "Q1_kda = kda_column.quantile(0.25)\n",
    "\n",
    "# Calculate the third quartile (Q3)\n",
    "Q3_kda = kda_column.quantile(0.75)\n",
    "\n",
    "# Calculate the interquartile range (IQR)\n",
    "IQR_kda = Q3_kda - Q1_kda\n",
    "\n",
    "# Define the lower and upper bounds for outliers\n",
    "lower_bound_kda = Q1_kda - 1.5 * IQR_kda\n",
    "upper_bound_kda = Q3_kda + 1.5 * IQR_kda\n",
    "\n",
    "# Identify outliers based on the lower and upper bounds\n",
    "outliers_kda = kda_column[(kda_column < lower_bound_kda) | (kda_column > upper_bound_kda)]\n",
    "\n",
    "# Replace outliers with the median of KDA\n",
    "median_kda = df['KDA'].median()\n",
    "df.loc[(df['KDA'] < lower_bound_kda) | (df['KDA'] > upper_bound_kda), 'KDA'] = median_kda\n",
    "\n",
    "# Display the outliers\n",
    "print(\"Outliers in KDA:\")\n",
    "print(outliers_kda)\n"
   ]
  },
  {
   "cell_type": "code",
   "execution_count": 42,
   "id": "3c2039df",
   "metadata": {
    "scrolled": false
   },
   "outputs": [
    {
     "data": {
      "image/png": "[encoded data removed]",
      "text/plain": [
       "<Figure size 800x600 with 1 Axes>"
      ]
     },
     "metadata": {},
     "output_type": "display_data"
    }
   ],
   "source": [
    "# Create a box plot for 'ACS/Map'\n",
    "plt.figure(figsize=(8, 6))\n",
    "sns.boxplot(x=df['KDA'])\n",
    "\n",
    "plt.xlabel('KDA')\n",
    "plt.title('Box Plot of KDA with Outliers')\n",
    "plt.show()"
   ]
  },
  {
   "cell_type": "markdown",
   "id": "d16d0982",
   "metadata": {},
   "source": [
    "## Outliers for Kill"
   ]
  },
  {
   "cell_type": "code",
   "execution_count": 43,
   "id": "2036e0a6",
   "metadata": {},
   "outputs": [
    {
     "name": "stdout",
     "output_type": "stream",
     "text": [
      "Outliers in Kill:\n",
      "3    446\n",
      "Name: K, dtype: int64\n"
     ]
    }
   ],
   "source": [
    "# Extract columns from the dataset\n",
    "k_column = df['K']\n",
    "\n",
    "# Calculate the first quartile (Q1)\n",
    "Q1 = k_column.quantile(0.25)\n",
    "\n",
    "# Calculate the third quartile (Q3)\n",
    "Q3 = k_column.quantile(0.75)\n",
    "\n",
    "# Calculate the interquartile range (IQR)\n",
    "IQR = Q3 - Q1\n",
    "\n",
    "# Define the lower and upper bounds for outliers\n",
    "lower_bound = Q1 - 1.5 * IQR\n",
    "upper_bound = Q3 + 1.5 * IQR\n",
    "\n",
    "# Identify outliers based on the lower and upper bounds\n",
    "outliers = k_column[(k_column < lower_bound) | (k_column > upper_bound)]\n",
    "\n",
    "# Replace outliers with the median of ACS/Map\n",
    "median_k = df['K'].median()\n",
    "df.loc[(df['K'] < lower_bound) | (df['K'] > upper_bound), 'K'] = median_k\n",
    "\n",
    "# Display the outliers\n",
    "print(\"Outliers in Kill:\")\n",
    "print(outliers)"
   ]
  },
  {
   "cell_type": "code",
   "execution_count": 44,
   "id": "75693f97",
   "metadata": {},
   "outputs": [
    {
     "data": {
      "image/png": "[encoded data removed]",
      "text/plain": [
       "<Figure size 800x600 with 1 Axes>"
      ]
     },
     "metadata": {},
     "output_type": "display_data"
    }
   ],
   "source": [
    "# Create a box plot for 'Kill'\n",
    "plt.figure(figsize=(8, 6))\n",
    "sns.boxplot(x=df['K'])\n",
    "\n",
    "plt.xlabel('Kill')\n",
    "plt.title('Box Plot of Kill with Outliers')\n",
    "plt.show()"
   ]
  },
  {
   "cell_type": "markdown",
   "id": "e9ec1f07",
   "metadata": {},
   "source": [
    "# Modelling Prediction Performance Player Combat and Player Assist"
   ]
  },
  {
   "cell_type": "markdown",
   "id": "d7a28bf9",
   "metadata": {},
   "source": [
    "## Logistic Regression - Combat aka potential duelist"
   ]
  },
  {
   "cell_type": "code",
   "execution_count": 53,
   "id": "6c17350c",
   "metadata": {
    "scrolled": false
   },
   "outputs": [
    {
     "name": "stdout",
     "output_type": "stream",
     "text": [
      "Updated Distribution of 'Exceptional':\n",
      "0    58\n",
      "1    22\n",
      "Name: Exceptional, dtype: int64\n",
      "\n",
      "Model Evaluation:\n",
      "Accuracy: 0.9464285714285714\n",
      "Classification Report:\n",
      "              precision    recall  f1-score   support\n",
      "\n",
      "           0       0.95      0.98      0.96        41\n",
      "           1       0.93      0.87      0.90        15\n",
      "\n",
      "    accuracy                           0.95        56\n",
      "   macro avg       0.94      0.92      0.93        56\n",
      "weighted avg       0.95      0.95      0.95        56\n",
      "\n",
      "\n",
      "Predicted Label for the Player: [1]\n"
     ]
    },
    {
     "name": "stderr",
     "output_type": "stream",
     "text": [
      "C:\\Users\\krise\\anaconda3\\lib\\site-packages\\sklearn\\base.py:420: UserWarning:\n",
      "\n",
      "X does not have valid feature names, but LogisticRegression was fitted with feature names\n",
      "\n"
     ]
    }
   ],
   "source": [
    "# Import necessary library\n",
    "from sklearn.model_selection import train_test_split\n",
    "from sklearn.linear_model import LogisticRegression\n",
    "from sklearn.metrics import accuracy_score, classification_report\n",
    "\n",
    "# Redefine exceptional player criteria based on KD, Kill and ACS/Map thresholds\n",
    "# Adjust the thresholds based on your criteria for exceptional players\n",
    "kd_threshold = 1.0\n",
    "k_threshold = 15.0\n",
    "acs_threshold = 210\n",
    "\n",
    "# Redefine the target variable: 1 if exceptional, 0 if not\n",
    "df['Exceptional'] = ((df['KD'] >= kd_threshold) & (df['K/Map'] >= k_threshold) & (df['ACS/Map'] >= acs_threshold)).astype(int)\n",
    "\n",
    "# Check the updated distribution of the target variable 'Exceptional'\n",
    "print(\"Updated Distribution of 'Exceptional':\")\n",
    "print(df['Exceptional'].value_counts())\n",
    "\n",
    "# Extract relevant features and target\n",
    "X = df[['KD', 'K/Map', 'ACS/Map']]\n",
    "y = df['Exceptional']\n",
    "\n",
    "# Split the dataset into training and testing sets\n",
    "X_train, X_test, y_train, y_test = train_test_split(X, y, test_size=0.7, random_state=0) # Adjusted parameter for testing sets, and seeds\n",
    "\n",
    "# Train a Logistic Regression model\n",
    "model = LogisticRegression()\n",
    "model.fit(X_train, y_train)\n",
    "\n",
    "# Predict whether each player is exceptional based on the model\n",
    "y_pred = model.predict(X_test)\n",
    "\n",
    "# Evaluate the model\n",
    "accuracy = accuracy_score(y_test, y_pred)\n",
    "print(\"\\nModel Evaluation:\")\n",
    "print(\"Accuracy:\", accuracy)\n",
    "print(\"Classification Report:\")\n",
    "print(classification_report(y_test, y_pred))\n",
    "\n",
    "# Use the model to predict whether a specific player is exceptional\n",
    "# Example: predict if player with KD=1, K=12 and ACS/Map=270 is exceptional\n",
    "player_data = [[1, 12, 270]]\n",
    "predicted_label = model.predict(player_data)\n",
    "print(\"\\nPredicted Label for the Player:\", predicted_label)"
   ]
  },
  {
   "cell_type": "code",
   "execution_count": 54,
   "id": "587591c8",
   "metadata": {},
   "outputs": [
    {
     "data": {
      "image/png": "[encoded data removed]",
      "text/plain": [
       "<Figure size 600x600 with 1 Axes>"
      ]
     },
     "metadata": {},
     "output_type": "display_data"
    }
   ],
   "source": [
    "#Import necessary library\n",
    "from sklearn.metrics import confusion_matrix\n",
    "\n",
    "# Calculate the confusion matrix\n",
    "cm = confusion_matrix(y_test, y_pred)\n",
    "\n",
    "# Plot the confusion matrix\n",
    "plt.figure(figsize=(6, 6))\n",
    "sns.heatmap(cm, annot=True, fmt='d', cmap='Blues', cbar=False,\n",
    "            xticklabels=['Not Exceptional', 'Exceptional'],\n",
    "            yticklabels=['Not Exceptional', 'Exceptional'])\n",
    "plt.xlabel('Predicted')\n",
    "plt.ylabel('Actual')\n",
    "plt.title('Confusion Matrix')\n",
    "plt.show()"
   ]
  },
  {
   "cell_type": "code",
   "execution_count": 55,
   "id": "9018132e",
   "metadata": {},
   "outputs": [
    {
     "data": {
      "image/png": "[encoded data removed]",
      "text/plain": [
       "<Figure size 800x600 with 1 Axes>"
      ]
     },
     "metadata": {},
     "output_type": "display_data"
    }
   ],
   "source": [
    "#Import necessary library\n",
    "from sklearn.metrics import roc_curve, roc_auc_score\n",
    "\n",
    "# Get the probabilities for positive class\n",
    "y_prob = model.predict_proba(X_test)[:, 1]\n",
    "\n",
    "# Calculate the ROC curve\n",
    "fpr, tpr, _ = roc_curve(y_test, y_prob)\n",
    "\n",
    "# Calculate the AUC (Area Under the Curve)\n",
    "roc_auc = roc_auc_score(y_test, y_prob)\n",
    "\n",
    "# Plot the ROC curve\n",
    "plt.figure(figsize=(8, 6))\n",
    "plt.plot(fpr, tpr, color='darkorange', lw=2, label='ROC curve (area = {:.2f})'.format(roc_auc))\n",
    "plt.plot([0, 1], [0, 1], color='navy', linestyle='--')\n",
    "plt.xlabel('False Positive Rate')\n",
    "plt.ylabel('True Positive Rate')\n",
    "plt.title('Receiver Operating Characteristic (ROC)')\n",
    "plt.legend(loc='lower right')\n",
    "plt.show()\n"
   ]
  },
  {
   "cell_type": "code",
   "execution_count": 56,
   "id": "3e799efe",
   "metadata": {},
   "outputs": [
    {
     "name": "stdout",
     "output_type": "stream",
     "text": [
      "Exceptional Players Sorted by Performance (KD, K/Map and ACS/Map) from Top to Bottom:\n",
      "        Player                            Agents    KD  K/Map  ACS/Map\n",
      "2       DEMON1      ['jett', 'astra', 'chamber']  1.39   20.0      246\n",
      "6      ALFAJER  ['killjoy', 'cypher', 'chamber']  1.38   16.6      232\n",
      "7        AAAAY                 ['skye', 'gekko']  1.33   19.0      231\n",
      "3        ASPAS                  ['raze', 'jett']  1.25   18.5      235\n",
      "17        CNED          ['jett', 'neon', 'sage']  1.20   20.3      220\n",
      "11        LESS              ['killjoy', 'viper']  1.20   17.3      227\n",
      "1          WHZ                  ['raze', 'jett']  1.17   19.2      254\n",
      "18       DERKE                  ['raze', 'jett']  1.14   14.7      218\n",
      "0       KEZNIT                  ['raze', 'jett']  1.12   19.7      266\n",
      "5       ARDIIS    ['jett', 'chamber', 'killjoy']  1.12   17.6      232\n",
      "19    CAUANZIN          ['skye', 'fade', 'sova']  1.12   16.2      217\n",
      "8   SAYAPLAYER                  ['jett', 'raze']  1.11   17.5      230\n",
      "9      JAWGEMO         ['raze', 'omen', 'astra']  1.11   17.2      228\n",
      "20       CLOUD                  ['skye', 'sova']  1.10   17.5      216\n",
      "16      VICTOR      ['raze', 'killjoy', 'kay/o']  1.07   17.6      221\n",
      "14         DEP               ['neon', 'killjoy']  1.07   17.5      226\n",
      "13      ZMJJKK       ['jett', 'raze', 'chamber']  1.04   17.8      226\n",
      "12     FIT1NHO                  ['raze', 'jett']  1.02   18.5      227\n",
      "4       JINGGG               ['raze', 'phoenix']  1.02   17.8      234\n",
      "10        BUZZ                  ['raze', 'jett']  1.02   17.0      228\n",
      "15        SAYF        ['raze', 'breach', 'jett']  1.01   17.2      222\n",
      "\n",
      "Non-Exceptional Players Sorted by Performance (KD, K/Map and ACS/Map) from Top to Bottom:\n",
      "        Player                               Agents    KD  K/Map  ACS/Map\n",
      "28         LEO             ['sova', 'skye', 'fade']  1.36   14.3      206\n",
      "39    SUYGETSU       ['viper', 'killjoy', 'cypher']  1.20   18.5      193\n",
      "37         C0M                    ['sova', 'viper']  1.12   15.7      195\n",
      "24     MRFALIN        ['killjoy', 'breach', 'fade']  1.11   16.0      209\n",
      "52     DAVEEYS               ['killjoy', 'chamber']  1.11   14.5      182\n",
      "22        NATS                 ['viper', 'killjoy']  1.09   17.5      211\n",
      "23   SOMETHING          ['jett', 'reyna', 'breach']  1.09   16.8      210\n",
      "41       D4V41         ['skye', 'viper', 'killjoy']  1.07   15.1      192\n",
      "58         S0M      ['brimstone', 'omen', 'harbor']  1.07   14.6      172\n",
      "26    YOSEMITE                 ['viper', 'killjoy']  1.03   15.6      207\n",
      "35     CHICHOO       ['viper', 'killjoy', 'cypher']  1.03   15.3      197\n",
      "51    CRASHIES                     ['skye', 'sova']  1.01   15.0      182\n",
      "30       HOODY            ['omen', 'viper', 'skye']  1.00   16.1      204\n",
      "29    F0RSAKEN        ['killjoy', 'harbor', 'skye']  1.00   16.0      205\n",
      "38       ETHAN            ['skye', 'kay/o', 'yoru']  1.00   14.4      193\n",
      "31      SMOGGY          ['breach', 'jett', 'kay/o']  0.98   16.3      201\n",
      "32        ZEST                    ['viper', 'sova']  0.98   15.1      200\n",
      "62        SHAO             ['skye', 'fade', 'sova']  0.97   15.7      168\n",
      "63  MINDFREAK       ['astra', 'viper', 'brimstone']  0.97   13.3      164\n",
      "44        MAKO                ['omen', 'brimstone']  0.96   14.0      190\n",
      "25      LYSOAR                 ['killjoy', 'viper']  0.95   15.0      208\n",
      "64        TUYZ          ['omen', 'astra', 'harbor']  0.95   12.6      163\n",
      "48        XETA                    ['viper', 'sova']  0.94   13.6      187\n",
      "33      NOBODY             ['skye', 'sova', 'fade']  0.93   15.5      198\n",
      "40       QRAXS                   ['kay/o', 'gekko']  0.93   14.5      192\n",
      "43         QW1                     ['jett', 'raze']  0.92   15.1      190\n",
      "21    MUNCHKIN        ['killjoy', 'skye', 'breach']  0.92   15.0      211\n",
      "42        MOJJ                 ['viper', 'killjoy']  0.92   14.1      192\n",
      "45      KNIGHT         ['cypher', 'omen', 'breach']  0.91   14.2      188\n",
      "56        STAX           ['skye', 'fade', 'breach']  0.91   14.0      175\n",
      "46       BIANK             ['sova', 'skye', 'fade']  0.89   14.0      188\n",
      "53     BOASTER       ['astra', 'omen', 'brimstone']  0.89   11.6      177\n",
      "34      ZYPPAN          ['raze', 'kay/o', 'breach']  0.88   17.0      198\n",
      "49      NUKKYE                ['cypher', 'killjoy']  0.88   15.0      185\n",
      "36  ATA KAPTAN                ['brimstone', 'omen']  0.88   13.6      196\n",
      "59   CHRONICLE         ['breach', 'viper', 'kay/o']  0.88   11.1      169\n",
      "50     SAADHAK         ['breach', 'viper', 'kay/o']  0.87   12.9      185\n",
      "27      YUICAW                     ['jett', 'raze']  0.86   14.7      206\n",
      "47     BOOSTIO  ['killjoy', 'brimstone', 'chamber']  0.86   13.8      187\n",
      "65          RB                  ['killjoy', 'yoru']  0.85   12.5      162\n",
      "67      JAMPPI        ['jett', 'chamber', 'breach']  0.84   14.0      162\n",
      "57       RHYME      ['breach', 'omen', 'brimstone']  0.83   13.4      174\n",
      "61     HAODONG       ['omen', 'brimstone', 'astra']  0.83   13.2      168\n",
      "55         BAN                   ['harbor', 'omen']  0.81   13.3      176\n",
      "70         LAZ                 ['chamber', 'viper']  0.80   12.0      154\n",
      "77     SOULCAS                    ['skye', 'astra']  0.75   11.0      134\n",
      "54       ANGE1        ['brimstone', 'omen', 'sova']  0.74   15.0      176\n",
      "75         RIN     ['omen', 'killjoy', 'brimstone']  0.73   11.0      144\n",
      "60         FNS                 ['viper', 'killjoy']  0.72   11.1      168\n",
      "68       KLAUS                             ['skye']  0.71   12.2      157\n",
      "72        NAGZ                            ['viper']  0.71   10.7      149\n",
      "76         TZH         ['astra', 'viper', 'harbor']  0.71   10.5      137\n",
      "66      REDGAR            ['astra', 'sova', 'omen']  0.69   12.2      162\n",
      "71       CARPE         ['gekko', 'skye', 'killjoy']  0.67   11.6      149\n",
      "73       TENNN                             ['raze']  0.66   11.0      146\n",
      "78   SUGARZ3RO               ['brimstone', 'astra']  0.65    9.5      115\n",
      "74      MELSER          ['harbor', 'astra', 'omen']  0.63   11.0      145\n",
      "69      BERLIN           ['omen', 'harbor', 'raze']  0.59   10.0      155\n",
      "79        CROW                   ['skye', 'breach']  0.47    7.2      106\n"
     ]
    }
   ],
   "source": [
    "# Extract columns from dataset for prediction (KD, K/Map and ACS/Map)\n",
    "X_players = df[['KD', 'K/Map', 'ACS/Map']]\n",
    "\n",
    "# Predict whether each player is exceptional based on the model\n",
    "predicted_labels = model.predict(X_players)\n",
    "\n",
    "# Filter out the players predicted as exceptional\n",
    "exceptional_players = df[predicted_labels == 1]\n",
    "non_exceptional_players = df[predicted_labels == 0]\n",
    "\n",
    "# Sort exceptional players by performance (KD, K/Map and ACS/Map) from top to bottom\n",
    "sorted_exceptional_players = exceptional_players.sort_values(by=['KD', 'K/Map', 'ACS/Map'], ascending=False)\n",
    "\n",
    "# Sort non-exceptional players by performance (KD, K/Map and ACS/Map) from top to bottom\n",
    "sorted_non_exceptional_players = non_exceptional_players.sort_values(by=['KD', 'K/Map', 'ACS/Map'], ascending=False)\n",
    "\n",
    "# Display the sorted exceptional players and their Agents\n",
    "print(\"Exceptional Players Sorted by Performance (KD, K/Map and ACS/Map) from Top to Bottom:\")\n",
    "print(sorted_exceptional_players[['Player', 'Agents', 'KD', 'K/Map', 'ACS/Map']])\n",
    "\n",
    "# Display the sorted non-exceptional players and their Agents\n",
    "print(\"\\nNon-Exceptional Players Sorted by Performance (KD, K/Map and ACS/Map) from Top to Bottom:\")\n",
    "print(sorted_non_exceptional_players[['Player', 'Agents', 'KD', 'K/Map', 'ACS/Map']])"
   ]
  },
  {
   "cell_type": "markdown",
   "id": "cd0e6128",
   "metadata": {},
   "source": [
    "## Random Forest - Combat aka potential duelist# "
   ]
  },
  {
   "cell_type": "code",
   "execution_count": 57,
   "id": "c13b1b5f",
   "metadata": {},
   "outputs": [
    {
     "name": "stdout",
     "output_type": "stream",
     "text": [
      "Updated Distribution of 'Exceptional Assist':\n",
      "0    69\n",
      "1    11\n",
      "Name: Exceptional Assist, dtype: int64\n",
      "\n",
      "Model Evaluation:\n",
      "Accuracy: 0.9821428571428571\n",
      "Classification Report:\n",
      "              precision    recall  f1-score   support\n",
      "\n",
      "           0       0.98      1.00      0.99        49\n",
      "           1       1.00      0.86      0.92         7\n",
      "\n",
      "    accuracy                           0.98        56\n",
      "   macro avg       0.99      0.93      0.96        56\n",
      "weighted avg       0.98      0.98      0.98        56\n",
      "\n",
      "\n",
      "Predicted Label for the Player: [1]\n"
     ]
    },
    {
     "name": "stderr",
     "output_type": "stream",
     "text": [
      "C:\\Users\\krise\\anaconda3\\lib\\site-packages\\sklearn\\base.py:420: UserWarning:\n",
      "\n",
      "X does not have valid feature names, but RandomForestClassifier was fitted with feature names\n",
      "\n"
     ]
    }
   ],
   "source": [
    "# Import necessary library\n",
    "from sklearn.ensemble import RandomForestClassifier\n",
    "\n",
    "# Redefine exceptional player criteria based on KDA, Assist and A/Map thresholds\n",
    "# Adjust the thresholds based on your criteria for exceptional players\n",
    "kda_threshold = .7\n",
    "a_threshold = 120\n",
    "a_map_threshold = 5.5\n",
    "\n",
    "df['Exceptional Assist'] = ((df['KDA'] >= kda_threshold) & (df['A'] >= a_threshold) & (df['A/Map'] >= a_map_threshold)).astype(int)\n",
    "\n",
    "# Check the updated distribution of the target variable 'Exceptional'\n",
    "print(\"Updated Distribution of 'Exceptional Assist':\")\n",
    "print(df['Exceptional Assist'].value_counts())\n",
    "\n",
    "# Extract relevant features and target\n",
    "X = df[['KDA', 'A', 'A/Map']]\n",
    "y = df['Exceptional Assist']\n",
    "\n",
    "# Split the dataset into training and testing sets\n",
    "X_train, X_test, y_train, y_test = train_test_split(X, y, test_size=0.7, random_state=0) # Adjusted parameter for testing sets, and seeds\n",
    "\n",
    "# Train a Random Forest Classifier model\n",
    "rf_model = RandomForestClassifier()\n",
    "rf_model.fit(X_train, y_train)\n",
    "\n",
    "# Predict whether each player is exceptional based on the model\n",
    "y_pred = rf_model.predict(X_test)\n",
    "\n",
    "# Evaluate the model\n",
    "accuracy = accuracy_score(y_test, y_pred)\n",
    "print(\"\\nModel Evaluation:\")\n",
    "print(\"Accuracy:\", accuracy)\n",
    "print(\"Classification Report:\")\n",
    "print(classification_report(y_test, y_pred))\n",
    "\n",
    "# Use the model to predict whether a specific player is exceptional\n",
    "# Example: predict if player with KDA=2.3, A=320, and A/Map=2.1 is exceptional\n",
    "player_data = [[2.3, 320, 2.1]]\n",
    "predicted_label = rf_model.predict(player_data)\n",
    "print(\"\\nPredicted Label for the Player:\", predicted_label)\n"
   ]
  },
  {
   "cell_type": "code",
   "execution_count": 58,
   "id": "0d654bf1",
   "metadata": {},
   "outputs": [
    {
     "data": {
      "image/png": "[encoded data removed]",
      "text/plain": [
       "<Figure size 640x480 with 1 Axes>"
      ]
     },
     "metadata": {},
     "output_type": "display_data"
    }
   ],
   "source": [
    "# Import necessary library\n",
    "import matplotlib.pyplot as plt\n",
    "from sklearn.metrics import roc_curve, auc\n",
    "\n",
    "# Compute ROC curve and ROC area for each class\n",
    "fpr, tpr, _ = roc_curve(y_test, rf_model.predict_proba(X_test)[:, 1])\n",
    "roc_auc = auc(fpr, tpr)\n",
    "\n",
    "# Plot ROC curve\n",
    "plt.figure()\n",
    "plt.plot(fpr, tpr, color='darkorange', lw=2, label='ROC curve (area = %0.2f)' % roc_auc)\n",
    "plt.plot([0, 1], [0, 1], color='navy', lw=2, linestyle='--')\n",
    "plt.xlim([0.0, 1.0])\n",
    "plt.ylim([0.0, 1.05])\n",
    "plt.xlabel('False Positive Rate')\n",
    "plt.ylabel('True Positive Rate')\n",
    "plt.title('ROC Curve')\n",
    "plt.legend(loc=\"lower right\")\n",
    "plt.show()\n"
   ]
  },
  {
   "cell_type": "code",
   "execution_count": 59,
   "id": "ee7379d2",
   "metadata": {},
   "outputs": [
    {
     "data": {
      "image/png": "[encoded data removed]",
      "text/plain": [
       "<Figure size 600x600 with 1 Axes>"
      ]
     },
     "metadata": {},
     "output_type": "display_data"
    }
   ],
   "source": [
    "# Import necessary library\n",
    "from sklearn.metrics import confusion_matrix\n",
    "import seaborn as sns\n",
    "\n",
    "# Calculate confusion matrix\n",
    "cm = confusion_matrix(y_test, y_pred)\n",
    "\n",
    "# Plot confusion matrix\n",
    "plt.figure(figsize=(6, 6))\n",
    "sns.heatmap(cm, annot=True, fmt='d', cmap='Blues', cbar=False,\n",
    "            xticklabels=['Not Exceptional', 'Exceptional'],\n",
    "            yticklabels=['Not Exceptional', 'Exceptional'])\n",
    "plt.xlabel('Predicted')\n",
    "plt.ylabel('True')\n",
    "plt.title('Confusion Matrix')\n",
    "plt.show()\n"
   ]
  },
  {
   "cell_type": "code",
   "execution_count": 60,
   "id": "e9dc22db",
   "metadata": {},
   "outputs": [
    {
     "name": "stdout",
     "output_type": "stream",
     "text": [
      "Exceptional Assist Players Sorted by Performance (KD, K/Map and ACS/Map) from Top to Bottom:\n",
      "        Player                           Agents   KDA    A  A/Map\n",
      "38       ETHAN        ['skye', 'kay/o', 'yoru']  1.87  265   12.6\n",
      "41       D4V41     ['skye', 'viper', 'killjoy']  1.74  153    9.5\n",
      "64        TUYZ      ['omen', 'astra', 'harbor']  1.73  247   10.2\n",
      "44        MAKO            ['omen', 'brimstone']  1.73  145   11.1\n",
      "19    CAUANZIN         ['skye', 'fade', 'sova']  1.71  207    8.6\n",
      "37         C0M                ['sova', 'viper']  1.61  144    6.8\n",
      "50     SAADHAK     ['breach', 'viper', 'kay/o']  1.58  252   10.5\n",
      "9      JAWGEMO        ['raze', 'omen', 'astra']  1.58  154    7.3\n",
      "63  MINDFREAK   ['astra', 'viper', 'brimstone']  1.57  132    8.2\n",
      "61     HAODONG   ['omen', 'brimstone', 'astra']  1.49  167   10.4\n",
      "\n",
      "Non-Exceptional Assist Players Sorted by Performance (KD, K/Map and ACS/Map) from Top to Bottom:\n",
      "        Player                           Agents   KDA    A  A/Map\n",
      "58         S0M  ['brimstone', 'omen', 'harbor']  1.71   53    8.8\n",
      "20       CLOUD                 ['skye', 'sova']  1.66   62    8.8\n",
      "2       DEMON1     ['jett', 'astra', 'chamber']  1.65   80    3.8\n",
      "30       HOODY        ['omen', 'viper', 'skye']  1.65   74   10.5\n",
      "36  ATA KAPTAN            ['brimstone', 'omen']  1.63  116   11.6\n",
      "..         ...                              ...   ...  ...    ...\n",
      "74      MELSER      ['harbor', 'astra', 'omen']  0.98   24    6.0\n",
      "70         LAZ             ['chamber', 'viper']  0.98   11    2.7\n",
      "67      JAMPPI    ['jett', 'chamber', 'breach']  0.93    6    1.5\n",
      "79        CROW               ['skye', 'breach']  0.85   23    5.7\n",
      "73       TENNN                         ['raze']  0.80    9    2.2\n",
      "\n",
      "[70 rows x 5 columns]\n"
     ]
    }
   ],
   "source": [
    "# Extract columns fromt the dataset for prediction (KDA, Assist and A/Map)\n",
    "X_players = df[['KDA', 'A', 'A/Map']]\n",
    "\n",
    "# Predict whether each player is exceptional based on the model\n",
    "predicted_labels = rf_model.predict(X_players)\n",
    "\n",
    "# Filter out the players predicted as exceptional\n",
    "exceptional_players = df[predicted_labels == 1]\n",
    "non_exceptional_players = df[predicted_labels == 0]\n",
    "\n",
    "# Sort exceptional players by performance (KDA, Assist and A/Map) from top to bottom\n",
    "sorted_exceptional_players = exceptional_players.sort_values(by=['KDA', 'A', 'A/Map'], ascending=False)\n",
    "\n",
    "# Sort non-exceptional players by performance (KDA, Assist and A/Map) from top to bottom\n",
    "sorted_non_exceptional_players = non_exceptional_players.sort_values(by=['KDA', 'A', 'A/Map'], ascending=False)\n",
    "\n",
    "# Display the sorted exceptional players and their Agents\n",
    "print(\"Exceptional Assist Players Sorted by Performance (KD, K/Map and ACS/Map) from Top to Bottom:\")\n",
    "print(sorted_exceptional_players[['Player', 'Agents', 'KDA', 'A', 'A/Map']])\n",
    "\n",
    "# Display the sorted non-exceptional players and their Agents\n",
    "print(\"\\nNon-Exceptional Assist Players Sorted by Performance (KD, K/Map and ACS/Map) from Top to Bottom:\")\n",
    "print(sorted_non_exceptional_players[['Player', 'Agents', 'KDA', 'A', 'A/Map']])"
   ]
  }
 ],
 "metadata": {
  "kernelspec": {
   "display_name": "Python 3 (ipykernel)",
   "language": "python",
   "name": "python3"
  },
  "language_info": {
   "codemirror_mode": {
    "name": "ipython",
    "version": 3
   },
   "file_extension": ".py",
   "mimetype": "text/x-python",
   "name": "python",
   "nbconvert_exporter": "python",
   "pygments_lexer": "ipython3",
   "version": "3.10.9"
  }
 },
 "nbformat": 4,
 "nbformat_minor": 5
}
