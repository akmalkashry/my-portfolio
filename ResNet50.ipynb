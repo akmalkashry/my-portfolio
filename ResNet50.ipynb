{
 "cells": [
  {
   "cell_type": "markdown",
   "id": "a5a84a7c",
   "metadata": {},
   "source": [
    "# Model Preparation"
   ]
  },
  {
   "cell_type": "code",
   "execution_count": 4,
   "id": "a5503e49",
   "metadata": {},
   "outputs": [],
   "source": [
    "# Import necessary libraries\n",
    "import keras\n",
    "from keras.applications import ResNet50\n",
    "from keras.preprocessing.image import ImageDataGenerator\n",
    "from tensorflow.keras.optimizers import SGD\n",
    "from keras.optimizers import Adam\n",
    "from tensorflow.keras.applications.resnet50 import preprocess_input, ResNet50\n",
    "import keras\n",
    "from keras.preprocessing.image import ImageDataGenerator\n",
    "from keras.optimizers import Adam\n",
    "import numpy as np\n",
    "import matplotlib.pyplot as plt\n",
    "import numpy as np\n",
    "import matplotlib.pyplot as plt\n",
    "\n",
    "# Load pre-trained ResNet50 model with ImageNet weights\n",
    "resnet50_model = ResNet50(weights='imagenet')"
   ]
  },
  {
   "cell_type": "code",
   "execution_count": 6,
   "id": "bd658460",
   "metadata": {},
   "outputs": [],
   "source": [
    "# Extract the dataset from the files\n",
    "train_path  = r\"C:\\Users\\krise\\FYP\\dataset\\Train\"\n",
    "valid_path  = r\"C:\\Users\\krise\\FYP\\dataset\\Validation\"\n",
    "test_path   = r\"C:\\Users\\krise\\FYP\\dataset\\Test\""
   ]
  },
  {
   "cell_type": "code",
   "execution_count": 7,
   "id": "ce70823b",
   "metadata": {},
   "outputs": [],
   "source": [
    "# Categorize the image\n",
    "class_type = {0:'Earth', 1:'Fire', 2:'Moon', 3:'Soil', 4:'Water'}"
   ]
  },
  {
   "cell_type": "markdown",
   "id": "d6c05807",
   "metadata": {},
   "source": [
    "## Checking the image and resize"
   ]
  },
  {
   "cell_type": "code",
   "execution_count": 8,
   "id": "3e761b26",
   "metadata": {},
   "outputs": [
    {
     "name": "stdout",
     "output_type": "stream",
     "text": [
      "Found 4299 images belonging to 5 classes.\n"
     ]
    }
   ],
   "source": [
    "train_datagen = ImageDataGenerator(preprocessing_function=preprocess_input)\n",
    "target_size = (224, 224) # Adjusted the image size\n",
    "\n",
    "train = train_datagen.flow_from_directory(\n",
    "    train_path,\n",
    "    target_size=target_size,)"
   ]
  },
  {
   "cell_type": "code",
   "execution_count": 9,
   "id": "71d58096",
   "metadata": {},
   "outputs": [
    {
     "name": "stdout",
     "output_type": "stream",
     "text": [
      "Found 4311 images belonging to 5 classes.\n"
     ]
    }
   ],
   "source": [
    "test_datagen = ImageDataGenerator(preprocessing_function=preprocess_input)\n",
    "target_size = (224, 224) # Adjusted the image size\n",
    "\n",
    "test = test_datagen.flow_from_directory(\n",
    "    test_path,\n",
    "    target_size=target_size,)"
   ]
  },
  {
   "cell_type": "code",
   "execution_count": 10,
   "id": "bf16bdf0",
   "metadata": {},
   "outputs": [
    {
     "name": "stdout",
     "output_type": "stream",
     "text": [
      "Found 4320 images belonging to 5 classes.\n"
     ]
    }
   ],
   "source": [
    "valid_datagen = ImageDataGenerator(preprocessing_function=preprocess_input)\n",
    "target_size = (224, 224) # Adjusted the image size\n",
    "\n",
    "valid = valid_datagen.flow_from_directory(\n",
    "    valid_path,\n",
    "    target_size=target_size,)"
   ]
  },
  {
   "cell_type": "code",
   "execution_count": 10,
   "id": "136ae1a7",
   "metadata": {},
   "outputs": [],
   "source": [
    "# Implement the modelling \"ResNet50\"\n",
    "model = ResNet50( include_top=False, input_shape=(224, 224, 3))"
   ]
  },
  {
   "cell_type": "code",
   "execution_count": 11,
   "id": "71aa5ba9",
   "metadata": {},
   "outputs": [],
   "source": [
    "for layer in model.layers:\n",
    "    layer.trainable = False"
   ]
  },
  {
   "cell_type": "code",
   "execution_count": 12,
   "id": "d8b3007e",
   "metadata": {},
   "outputs": [],
   "source": [
    "# Import necessary libraries\n",
    "from keras.callbacks import EarlyStopping\n",
    "from keras.callbacks import ModelCheckpoint\n",
    "\n",
    "# Extracting the output from the model\n",
    "x = model.output\n",
    "\n",
    "# Flatten the output and add a dense layer with 1024 units and ReLU activation\n",
    "x = keras.layers.Flatten()(x)\n",
    "x = keras.layers.Dense(1024, activation='relu')(x)\n",
    "\n",
    "# Add a dropout layer with a rate of 0.5\n",
    "x = keras.layers.Dropout(0.5)(x)\n",
    "\n",
    "# Add the final dense layer with 5 units and softmax activation for predictions\n",
    "predictions = keras.layers.Dense(5, activation='softmax')(x)\n",
    "\n",
    "# Create a new model with the specified input and the prediction layer\n",
    "model = keras.models.Model(inputs=model.input, outputs=predictions)\n",
    "\n",
    "# Compile the model with Adam optimizer, categorical crossentropy loss, and accuracy metric\n",
    "model.compile(optimizer='adam', loss='categorical_crossentropy', metrics=['accuracy'])\n",
    "\n",
    "# Early stopping to monitor validation accuracy and stop training if no improvement\n",
    "es = EarlyStopping(monitor= \"val_accuracy\" , min_delta= 0.01, patience= 3, verbose=1)\n",
    "# Model checkpoint to save the best model based on validation accuracy\n",
    "mc = ModelCheckpoint(filepath=\"ResNet50.h5\", monitor=\"val_accuracy\", verbose=1, save_best_only= True)"
   ]
  },
  {
   "cell_type": "code",
   "execution_count": 11,
   "id": "72738d00",
   "metadata": {
    "scrolled": true
   },
   "outputs": [
    {
     "name": "stdout",
     "output_type": "stream",
     "text": [
      "Epoch 1/10\n",
      "10/10 [==============================] - ETA: 0s - loss: 43.6867 - accuracy: 0.4000\n",
      "Epoch 1: val_accuracy improved from -inf to 0.58301, saving model to ResNet50.h5\n"
     ]
    },
    {
     "name": "stderr",
     "output_type": "stream",
     "text": [
      "C:\\Users\\krise\\anaconda3\\lib\\site-packages\\keras\\src\\engine\\training.py:3000: UserWarning: You are saving your model as an HDF5 file via `model.save()`. This file format is considered legacy. We recommend using instead the native Keras format, e.g. `model.save('my_model.keras')`.\n",
      "  saving_api.save_model(\n"
     ]
    },
    {
     "name": "stdout",
     "output_type": "stream",
     "text": [
      "10/10 [==============================] - 62s 6s/step - loss: 43.6867 - accuracy: 0.4000 - val_loss: 18.8026 - val_accuracy: 0.5830\n",
      "Epoch 2/10\n",
      "10/10 [==============================] - ETA: 0s - loss: 12.7145 - accuracy: 0.7156\n",
      "Epoch 2: val_accuracy improved from 0.58301 to 0.73145, saving model to ResNet50.h5\n",
      "10/10 [==============================] - 59s 6s/step - loss: 12.7145 - accuracy: 0.7156 - val_loss: 12.0691 - val_accuracy: 0.7314\n",
      "Epoch 3/10\n",
      "10/10 [==============================] - ETA: 0s - loss: 8.8935 - accuracy: 0.7906\n",
      "Epoch 3: val_accuracy improved from 0.73145 to 0.73828, saving model to ResNet50.h5\n",
      "10/10 [==============================] - 59s 6s/step - loss: 8.8935 - accuracy: 0.7906 - val_loss: 11.5323 - val_accuracy: 0.7383\n",
      "Epoch 4/10\n",
      "10/10 [==============================] - ETA: 0s - loss: 8.8863 - accuracy: 0.8000\n",
      "Epoch 4: val_accuracy did not improve from 0.73828\n",
      "10/10 [==============================] - 56s 6s/step - loss: 8.8863 - accuracy: 0.8000 - val_loss: 13.3860 - val_accuracy: 0.7266\n",
      "Epoch 5/10\n",
      "10/10 [==============================] - ETA: 0s - loss: 8.7517 - accuracy: 0.8000\n",
      "Epoch 5: val_accuracy did not improve from 0.73828\n",
      "10/10 [==============================] - 57s 6s/step - loss: 8.7517 - accuracy: 0.8000 - val_loss: 12.9940 - val_accuracy: 0.6973\n",
      "Epoch 6/10\n",
      "10/10 [==============================] - ETA: 0s - loss: 7.5695 - accuracy: 0.8395\n",
      "Epoch 6: val_accuracy improved from 0.73828 to 0.76367, saving model to ResNet50.h5\n",
      "10/10 [==============================] - 58s 6s/step - loss: 7.5695 - accuracy: 0.8395 - val_loss: 9.2852 - val_accuracy: 0.7637\n",
      "Epoch 7/10\n",
      "10/10 [==============================] - ETA: 0s - loss: 4.8937 - accuracy: 0.8750\n",
      "Epoch 7: val_accuracy improved from 0.76367 to 0.80078, saving model to ResNet50.h5\n",
      "10/10 [==============================] - 59s 6s/step - loss: 4.8937 - accuracy: 0.8750 - val_loss: 7.7913 - val_accuracy: 0.8008\n",
      "Epoch 8/10\n",
      "10/10 [==============================] - ETA: 0s - loss: 3.0941 - accuracy: 0.8906\n",
      "Epoch 8: val_accuracy did not improve from 0.80078\n",
      "10/10 [==============================] - 57s 6s/step - loss: 3.0941 - accuracy: 0.8906 - val_loss: 8.2669 - val_accuracy: 0.7920\n",
      "Epoch 9/10\n",
      "10/10 [==============================] - ETA: 0s - loss: 4.3500 - accuracy: 0.8844\n",
      "Epoch 9: val_accuracy did not improve from 0.80078\n",
      "10/10 [==============================] - 57s 6s/step - loss: 4.3500 - accuracy: 0.8844 - val_loss: 8.2770 - val_accuracy: 0.8008\n",
      "Epoch 10/10\n",
      "10/10 [==============================] - ETA: 0s - loss: 3.5328 - accuracy: 0.8938\n",
      "Epoch 10: val_accuracy improved from 0.80078 to 0.82617, saving model to ResNet50.h5\n",
      "10/10 [==============================] - 59s 6s/step - loss: 3.5328 - accuracy: 0.8938 - val_loss: 6.1278 - val_accuracy: 0.8262\n"
     ]
    }
   ],
   "source": [
    "# Train the data\n",
    "history = model.fit(\n",
    "    train,\n",
    "    steps_per_epoch=10, # Adjusted how many epoch\n",
    "    validation_data = valid,\n",
    "    validation_steps=32,\n",
    "    callbacks=[mc],\n",
    "    epochs=10) # Adjusted how many step to run"
   ]
  },
  {
   "cell_type": "markdown",
   "id": "b3b72cb8",
   "metadata": {},
   "source": [
    "# Model Use"
   ]
  },
  {
   "cell_type": "code",
   "execution_count": 1,
   "id": "09525f55",
   "metadata": {},
   "outputs": [
    {
     "ename": "NameError",
     "evalue": "name 'history' is not defined",
     "output_type": "error",
     "traceback": [
      "\u001b[1;31m---------------------------------------------------------------------------\u001b[0m",
      "\u001b[1;31mNameError\u001b[0m                                 Traceback (most recent call last)",
      "Cell \u001b[1;32mIn[1], line 1\u001b[0m\n\u001b[1;32m----> 1\u001b[0m \u001b[43mhistory\u001b[49m\u001b[38;5;241m.\u001b[39mhistory\n\u001b[0;32m      3\u001b[0m fig \u001b[38;5;241m=\u001b[39m plt\u001b[38;5;241m.\u001b[39mfigure()\n\u001b[0;32m      4\u001b[0m plt\u001b[38;5;241m.\u001b[39mplot(history\u001b[38;5;241m.\u001b[39mhistory[\u001b[38;5;124m'\u001b[39m\u001b[38;5;124mloss\u001b[39m\u001b[38;5;124m'\u001b[39m], color\u001b[38;5;241m=\u001b[39m\u001b[38;5;124m'\u001b[39m\u001b[38;5;124mteal\u001b[39m\u001b[38;5;124m'\u001b[39m,label\u001b[38;5;241m=\u001b[39m\u001b[38;5;124m'\u001b[39m\u001b[38;5;124mloss\u001b[39m\u001b[38;5;124m'\u001b[39m)\n",
      "\u001b[1;31mNameError\u001b[0m: name 'history' is not defined"
     ]
    }
   ],
   "source": [
    "history.history\n",
    "\n",
    "# Plotting the loss\n",
    "fig = plt.figure()\n",
    "plt.plot(history.history['loss'], color='teal',label='loss')\n",
    "plt.plot(history.history['val_loss'], color='orange',label='val_loss')\n",
    "fig.suptitle('Loss', fontsize=20)\n",
    "plt.legend(loc= \"upper left\")\n",
    "plt.show\n",
    "\n",
    "# Plotting the accuracy\n",
    "fig = plt.figure()\n",
    "plt.plot(history.history['accuracy'], color='teal',label='accuracy')\n",
    "plt.plot(history.history['val_accuracy'], color='orange',label='val_accuracy')\n",
    "fig.suptitle('Accuracy', fontsize=20)\n",
    "plt.legend(loc= \"upper left\")\n",
    "plt.show"
   ]
  },
  {
   "cell_type": "code",
   "execution_count": 14,
   "id": "63521699",
   "metadata": {},
   "outputs": [],
   "source": [
    "from keras.models import load_model\n",
    "model = load_model(\"ResNet50.h5\")"
   ]
  },
  {
   "cell_type": "code",
   "execution_count": null,
   "id": "5f2df0aa",
   "metadata": {},
   "outputs": [
    {
     "name": "stdout",
     "output_type": "stream",
     "text": [
      "  9/135 [=>............................] - ETA: 2:18 - loss: 0.0904 - accuracy: 0.9931"
     ]
    }
   ],
   "source": [
    "# Evaluate the model using the test generator\n",
    "evaluation = model.evaluate(test)\n",
    "\n",
    "# Print the evaluation results\n",
    "print(f\"The accuracy of your model is = {evaluation[1] * 100:.2f}%\")"
   ]
  },
  {
   "cell_type": "code",
   "execution_count": 15,
   "id": "f8952780",
   "metadata": {},
   "outputs": [],
   "source": [
    "import tensorflow as tf\n",
    "import keras.utils as image # Importing image utilities from Keras\n",
    "\n",
    "# Function to load and preprocess an image\n",
    "def get_img_array(img_path):\n",
    "    path = img_path\n",
    "    img = tf.keras.utils.load_img(path, target_size=(224,224,3))\n",
    "    img = image.img_to_array(img)\n",
    "    img = np.expand_dims(img , axis= 0 )\n",
    "    return img"
   ]
  },
  {
   "cell_type": "code",
   "execution_count": 17,
   "id": "ae4022dc",
   "metadata": {},
   "outputs": [],
   "source": [
    "path = r'C:\\Users\\krise\\FYP\\google_images\\Water.png'\n",
    "\n",
    "img = get_img_array(path)"
   ]
  },
  {
   "cell_type": "code",
   "execution_count": 18,
   "id": "5e5a29d0",
   "metadata": {},
   "outputs": [
    {
     "name": "stdout",
     "output_type": "stream",
     "text": [
      "1/1 [==============================] - 1s 785ms/step\n",
      "The image belongs to the class: Water\n"
     ]
    }
   ],
   "source": [
    "predicted_class  = class_type[np.argmax(model.predict(img))] \n",
    "#class_labels = train_generator.class_indices\n",
    "#class_name = list(class_labels.keys())[list(class_labels.values()).index(predicted_class)]\n",
    "print(\"The image belongs to the class:\", predicted_class)"
   ]
  }
 ],
 "metadata": {
  "kernelspec": {
   "display_name": "Python 3 (ipykernel)",
   "language": "python",
   "name": "python3"
  },
  "language_info": {
   "codemirror_mode": {
    "name": "ipython",
    "version": 3
   },
   "file_extension": ".py",
   "mimetype": "text/x-python",
   "name": "python",
   "nbconvert_exporter": "python",
   "pygments_lexer": "ipython3",
   "version": "3.10.9"
  }
 },
 "nbformat": 4,
 "nbformat_minor": 5
}
